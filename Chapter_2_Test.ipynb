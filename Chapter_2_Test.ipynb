{
  "nbformat": 4,
  "nbformat_minor": 0,
  "metadata": {
    "colab": {
      "provenance": [],
      "authorship_tag": "ABX9TyONPFh2nukLyGzlzO7ML5B5",
      "include_colab_link": true
    },
    "kernelspec": {
      "name": "python3",
      "display_name": "Python 3"
    },
    "language_info": {
      "name": "python"
    }
  },
  "cells": [
    {
      "cell_type": "markdown",
      "metadata": {
        "id": "view-in-github",
        "colab_type": "text"
      },
      "source": [
        "<a href=\"https://colab.research.google.com/github/detel/Algorithms/blob/master/Chapter_2_Test.ipynb\" target=\"_parent\"><img src=\"https://colab.research.google.com/assets/colab-badge.svg\" alt=\"Open In Colab\"/></a>"
      ]
    },
    {
      "cell_type": "code",
      "execution_count": null,
      "metadata": {
        "colab": {
          "base_uri": "https://localhost:8080/"
        },
        "id": "a2h8ETA5W6Ab",
        "outputId": "504e986b-2d98-4cd8-9be4-b3c6f5590881"
      },
      "outputs": [
        {
          "output_type": "stream",
          "name": "stdout",
          "text": [
            "torch version: 2.6.0+cu124\n",
            "tiktoken version: 0.9.0\n"
          ]
        }
      ],
      "source": [
        "from importlib.metadata import version\n",
        "\n",
        "print(\"torch version:\", version(\"torch\"))\n",
        "print(\"tiktoken version:\", version(\"tiktoken\"))"
      ]
    },
    {
      "cell_type": "code",
      "source": [
        "import os\n",
        "import urllib.request\n",
        "\n",
        "if not os.path.exists(\"the-verdict.txt\"):\n",
        "    url = (\"https://raw.githubusercontent.com/rasbt/\"\n",
        "           \"LLMs-from-scratch/main/ch02/01_main-chapter-code/\"\n",
        "           \"the-verdict.txt\")\n",
        "    file_path = \"the-verdict.txt\"\n",
        "    urllib.request.urlretrieve(url, file_path)"
      ],
      "metadata": {
        "id": "NYIUsDZ1YWpX"
      },
      "execution_count": null,
      "outputs": []
    },
    {
      "cell_type": "code",
      "source": [
        "with open(\"the-verdict.txt\", \"r\", encoding=\"utf-8\") as f:\n",
        "    raw_text = f.read()\n",
        "\n",
        "print(\"Total number of character:\", len(raw_text))\n",
        "print(raw_text[:99])"
      ],
      "metadata": {
        "colab": {
          "base_uri": "https://localhost:8080/"
        },
        "id": "SMWk5SAFYW11",
        "outputId": "1bf272b5-97cb-4c76-a656-75ebffbc23dc"
      },
      "execution_count": null,
      "outputs": [
        {
          "output_type": "stream",
          "name": "stdout",
          "text": [
            "Total number of character: 20479\n",
            "I HAD always thought Jack Gisburn rather a cheap genius--though a good fellow enough--so it was no \n"
          ]
        }
      ]
    },
    {
      "cell_type": "code",
      "source": [
        "import regex as re\n",
        "\n",
        "class SimpleTokenizerV1:\n",
        "    def encode(self, text):\n",
        "        # Implement encode\n",
        "        raise NotImplementedError\n",
        "\n",
        "    def decode(self, ids):\n",
        "        # Implement decode\n",
        "        raise NotImplementedError"
      ],
      "metadata": {
        "id": "8OAk0jk4YW48"
      },
      "execution_count": null,
      "outputs": []
    },
    {
      "cell_type": "code",
      "source": [
        "import unittest\n",
        "import os\n",
        "import urllib.request\n",
        "\n",
        "class TestSimpleTokenizerV1(unittest.TestCase):\n",
        "\n",
        "    def prepare_the_verdict_vocab(self):\n",
        "        if not os.path.exists(\"the-verdict.txt\"):\n",
        "          url = (\"https://raw.githubusercontent.com/rasbt/\"\n",
        "           \"LLMs-from-scratch/main/ch02/01_main-chapter-code/\"\n",
        "           \"the-verdict.txt\")\n",
        "          file_path = \"the-verdict.txt\"\n",
        "          urllib.request.urlretrieve(url, file_path)\n",
        "        with open(\"the-verdict.txt\", \"r\", encoding=\"utf-8\") as f:\n",
        "          raw_text = f.read()\n",
        "        preprocessed = re.split(r'([,.:;?_!\"()\\']|--|\\s)', raw_text)\n",
        "        preprocessed = [item.strip() for item in preprocessed if item.strip()]\n",
        "        all_words = sorted(set(preprocessed))\n",
        "        return {token:integer for integer,token in enumerate(all_words)}\n",
        "\n",
        "    def setUp(self):\n",
        "        self.hello_world_vocab = {\"hello\": 1, \" \": 2, \"world\": 3, \"!\": 4}\n",
        "        self.the_verdict_vocab = self.prepare_the_verdict_vocab()\n",
        "\n",
        "    def test_init_success(self):\n",
        "        # Test case 1: initialize of tokenizer\n",
        "        tokenizer = SimpleTokenizerV1(self.hello_world_vocab)\n",
        "\n",
        "    def test_encode_helloWorld(self):\n",
        "        tokenizer = SimpleTokenizerV1(self.hello_world_vocab)\n",
        "\n",
        "        # Test case 1: simple sentence\n",
        "        text = \"hello world\"\n",
        "        self.assertEqual(tokenizer.encode(text), [1, 3])\n",
        "\n",
        "    def test_encode_helloWorldWithPunctuation(self):\n",
        "        tokenizer = SimpleTokenizerV1(self.hello_world_vocab)\n",
        "\n",
        "        text = \"hello world \"\n",
        "        self.assertEqual(tokenizer.encode(text), [1, 3])\n",
        "\n",
        "    def test_encode_emptyString(self):\n",
        "        tokenizer = SimpleTokenizerV1(self.hello_world_vocab)\n",
        "\n",
        "        self.assertEqual(tokenizer.encode(\"\"), [])\n",
        "\n",
        "    def test_encode_longStatement(self):\n",
        "        tokenizer = SimpleTokenizerV1(self.the_verdict_vocab)\n",
        "\n",
        "        text = \"\"\"\"It's the last he painted, you know,\"\n",
        "           Mrs. Gisburn said with pardonable pride.\"\"\"\n",
        "        ids = tokenizer.encode(text)\n",
        "        self.assertEqual(ids, [1, 56, 2, 850, 988, 602, 533, 746, 5, 1126, 596, 5, 1, 67, 7, 38, 851, 1108, 754, 793, 7])\n",
        "\n",
        "    def test_decode_helloWorld(self):\n",
        "        tokenizer = SimpleTokenizerV1(self.hello_world_vocab)\n",
        "        self.assertEqual(tokenizer.decode([1, 3]), \"hello world\")\n",
        "\n",
        "    def test_decode_theVerdict(self):\n",
        "        tokenizer = SimpleTokenizerV1(self.the_verdict_vocab)\n",
        "        self.assertEqual(\n",
        "            tokenizer.decode([1, 56, 2, 850, 988, 602, 533, 746, 5, 1126, 596, 5, 1, 67, 7, 38, 851, 1108, 754, 793, 7]),\n",
        "           '\" It\\' s the last he painted, you know,\" Mrs. Gisburn said with pardonable pride.')\n",
        "\n",
        "    def test_encodeDecode_theVerdict(self):\n",
        "        tokenizer = SimpleTokenizerV1(self.the_verdict_vocab)\n",
        "        self.assertEqual(\n",
        "            tokenizer.decode(tokenizer.encode(\n",
        "                '\"It\\'s the last he painted, you know,\" Mrs. Gisburn said with pardonable pride.')),\n",
        "            '\" It\\' s the last he painted, you know,\" Mrs. Gisburn said with pardonable pride.')\n",
        "\n",
        "    def test_encode_stringWithCharactersNotInHelloWorldVocabFails(self):\n",
        "        tokenizer = SimpleTokenizerV1(self.hello_world_vocab)\n",
        "\n",
        "        with self.assertRaises(KeyError):\n",
        "            tokenizer.encode(\"hello world?\")\n",
        "\n",
        "    def test_encode_stringWithCharactersNotInVerdictVocabFails(self):\n",
        "        tokenizer = SimpleTokenizerV1(self.the_verdict_vocab)\n",
        "\n",
        "        with self.assertRaises(KeyError):\n",
        "            tokenizer.encode(\"Hello, do you like tea. Is this-- a test?\")\n",
        "\n",
        "# To run the tests in a Colab notebook:\n",
        "if __name__ == '__main__':\n",
        "    unittest.main(argv=['first-arg-is-ignored'], exit=False)"
      ],
      "metadata": {
        "colab": {
          "base_uri": "https://localhost:8080/"
        },
        "id": "C5eE5jKGYW8U",
        "outputId": "3fc83968-58ee-4b77-bd48-4b41b34ade0b"
      },
      "execution_count": null,
      "outputs": [
        {
          "output_type": "stream",
          "name": "stderr",
          "text": [
            "...............\n",
            "----------------------------------------------------------------------\n",
            "Ran 15 tests in 0.113s\n",
            "\n",
            "OK\n"
          ]
        }
      ]
    },
    {
      "cell_type": "code",
      "source": [
        "import unittest\n",
        "import os\n",
        "import urllib.request\n",
        "import regex as re\n",
        "\n",
        "class TestSimpleTokenizerV2(unittest.TestCase):\n",
        "\n",
        "    def prepare_the_verdict_vocab(self):\n",
        "        if not os.path.exists(\"the-verdict.txt\"):\n",
        "            url = (\"https://raw.githubusercontent.com/rasbt/\"\n",
        "                   \"LLMs-from-scratch/main/ch02/01_main-chapter-code/\"\n",
        "                   \"the-verdict.txt\")\n",
        "            file_path = \"the-verdict.txt\"\n",
        "            urllib.request.urlretrieve(url, file_path)\n",
        "        with open(\"the-verdict.txt\", \"r\", encoding=\"utf-8\") as f:\n",
        "            raw_text = f.read()\n",
        "        preprocessed = re.split(r'([,.:;?_!\"()\\']|--|\\s)', raw_text)\n",
        "        preprocessed = [item.strip() for item in preprocessed\n",
        "                        if item.strip()]\n",
        "        all_words = sorted(set(preprocessed))\n",
        "        return {token:integer for integer,token in enumerate(all_words)}\n",
        "\n",
        "    def setUp(self):\n",
        "        self.hello_world_vocab = {\"hello\": 1, \" \": 2, \"world\": 3, \"!\": 4}\n",
        "        self.the_verdict_vocab = self.prepare_the_verdict_vocab()\n",
        "\n",
        "    # def test_encode_stringWithCharactersNotInHelloWorldVocabFails(self):\n",
        "    #     tokenizer = SimpleTokenizerV2(self.hello_world_vocab)\n",
        "\n",
        "    #     with self.assertRaises(KeyError):\n",
        "    #         tokenizer.encode(\"hello world?\")\n",
        "\n",
        "    # def test_encode_stringWithCharactersNotInVerdictVocabFails(self):\n",
        "    #     tokenizer = SimpleTokenizerV2(self.the_verdict_vocab)\n",
        "\n",
        "    #     with self.assertRaises(KeyError):\n",
        "    #         tokenizer.encode(\"Hello, do you like tea. Is this-- a test?\")\n",
        "\n",
        "    def test_encode_stringWithCharactersNotInVerdictVocabFails(self):\n",
        "        tokenizer = SimpleTokenizerV2(self.the_verdict_vocab)\n",
        "        text1 = \"Hello, do you like tea?\"\n",
        "        text2 = \"In the sunlit terraces of the palace.\"\n",
        "        text = \" <|endoftext|> \".join((text1, text2))\n",
        "\n",
        "        self.assertEquals(tokenizer.encode(text),\n",
        "                          [1131, 5, 355, 1126, 628, 975, 10, 1130, 55, 988,\n",
        "                           956, 984, 722, 988, 1131, 7])\n",
        "\n",
        "    def test_decode_stringWithCharactersNotInVerdictVocabFails(self):\n",
        "        tokenizer = SimpleTokenizerV2(self.the_verdict_vocab)\n",
        "        text1 = \"Hello, do you like tea?\"\n",
        "        text2 = \"In the sunlit terraces of the palace.\"\n",
        "        text = \" <|endoftext|> \".join((text1, text2))\n",
        "\n",
        "        self.assertEquals(tokenizer.decode([1131, 5, 355, 1126, 628, 975, 10,\n",
        "                                            1130, 55, 988, 956, 984, 722, 988,\n",
        "                                            1131, 7]),\n",
        "                          '<|unk|>, do you like tea? <|endoftext|> In the sunlit terraces of the <|unk|>.'\n",
        ")\n",
        "\n",
        "        # add encode decode test\n",
        "\n",
        "\n",
        "# To run the tests in a Colab notebook:\n",
        "if __name__ == '__main__':\n",
        "    unittest.main(argv=['first-arg-is-ignored'], exit=False)"
      ],
      "metadata": {
        "colab": {
          "base_uri": "https://localhost:8080/"
        },
        "id": "dL5MYDPJYXEq",
        "outputId": "cdd2f0b2-30e3-4566-af85-966b7a39800d"
      },
      "execution_count": null,
      "outputs": [
        {
          "output_type": "stream",
          "name": "stderr",
          "text": [
            "...............\n",
            "----------------------------------------------------------------------\n",
            "Ran 15 tests in 0.502s\n",
            "\n",
            "OK\n"
          ]
        }
      ]
    },
    {
      "cell_type": "code",
      "source": [],
      "metadata": {
        "id": "qnDTbByBYXHh"
      },
      "execution_count": null,
      "outputs": []
    },
    {
      "cell_type": "code",
      "source": [
        "import regex as re\n",
        "\n",
        "class SimpleTokenizerV1:\n",
        "    def __init__(self, vocab):\n",
        "        self.str_to_int = vocab\n",
        "        self.int_to_str = {v: k for k, v in vocab.items()}\n",
        "\n",
        "    def encode(self, text):\n",
        "        preprocessed = re.split(r'([,.:;?_!\"()\\']|--|\\s)', text)\n",
        "        preprocessed = [\n",
        "            item.strip() for item in preprocessed if item.strip()\n",
        "        ]\n",
        "        ids = [self.str_to_int[s] for s in preprocessed]\n",
        "        return ids\n",
        "\n",
        "    def decode(self, ids):\n",
        "        text = \" \".join([self.int_to_str[i] for i in ids])\n",
        "        # Replace spaces before the specified punctuations\n",
        "        text = re.sub(r'\\s+([,.?!\"()\\'])', r'\\1', text)\n",
        "        return text"
      ],
      "metadata": {
        "id": "jdIQ3i6LVxdR"
      },
      "execution_count": null,
      "outputs": []
    },
    {
      "cell_type": "code",
      "source": [
        "import regex as re\n",
        "\n",
        "class SimpleTokenizerV2:\n",
        "    def __init__(self, vocab):\n",
        "        vocab.update({\"<|endoftext|>\": len(vocab)})\n",
        "        vocab.update({\"<|unk|>\": len(vocab)})\n",
        "        self.str_to_int = vocab\n",
        "        self.int_to_str = {v: k for k, v in vocab.items()}\n",
        "\n",
        "    def encode(self, text):\n",
        "        preprocessed = re.split(r'([,.:;?_!\"()\\']|--|\\s)', text)\n",
        "        preprocessed = [\n",
        "            item.strip() for item in preprocessed if item.strip()\n",
        "        ]\n",
        "        preprocessed = [\n",
        "            item if item in self.str_to_int\n",
        "            else \"<|unk|>\" for item in preprocessed\n",
        "        ]\n",
        "\n",
        "        ids = [self.str_to_int[s] for s in preprocessed]\n",
        "        return ids\n",
        "\n",
        "    def decode(self, ids):\n",
        "        text = \" \".join([self.int_to_str[i] for i in ids])\n",
        "        # Replace spaces before the specified punctuations\n",
        "        text = re.sub(r'\\s+([,.?!\"()\\'])', r'\\1', text)\n",
        "        return text"
      ],
      "metadata": {
        "id": "awqHkpWcVyXE"
      },
      "execution_count": null,
      "outputs": []
    },
    {
      "cell_type": "code",
      "source": [
        "from torch.utils.data import Dataset, DataLoader\n",
        "import torch\n",
        "\n",
        "\n",
        "class GPTDatasetV1(Dataset):\n",
        "    def __init__(self, txt, tokenizer, max_length, stride):\n",
        "        self.input_ids = []\n",
        "        self.target_ids = []\n",
        "\n",
        "        # Tokenize the entire text\n",
        "        token_ids = tokenizer.encode(txt, allowed_special={\"<|endoftext|>\"})\n",
        "        assert len(token_ids) > max_length, \"Number of tokenized inputs must at least be equal to max_length+1\"\n",
        "\n",
        "        # Use a sliding window to chunk the book into overlapping sequences of max_length\n",
        "        for i in range(0, len(token_ids) - max_length, stride):\n",
        "            input_chunk = token_ids[i:i + max_length]\n",
        "            target_chunk = token_ids[i + 1: i + max_length + 1]\n",
        "            self.input_ids.append(torch.tensor(input_chunk))\n",
        "            self.target_ids.append(torch.tensor(target_chunk))\n",
        "\n",
        "    def __len__(self):\n",
        "        return len(self.input_ids)\n",
        "\n",
        "    def __getitem__(self, idx):\n",
        "        return self.input_ids[idx], self.target_ids[idx]"
      ],
      "metadata": {
        "id": "dE8mGsDcYXKp"
      },
      "execution_count": null,
      "outputs": []
    },
    {
      "cell_type": "code",
      "source": [
        "import importlib\n",
        "import tiktoken\n",
        "\n",
        "print(\"tiktoken version:\", importlib.metadata.version(\"tiktoken\"))\n",
        "\n",
        "def create_dataloader_v1(txt, batch_size=4, max_length=256,\n",
        "                         stride=128, shuffle=True, drop_last=True,\n",
        "                         num_workers=0):\n",
        "\n",
        "    # Initialize the tokenizer\n",
        "    tokenizer = tiktoken.get_encoding(\"gpt2\")\n",
        "\n",
        "    # Create dataset\n",
        "    dataset = GPTDatasetV1(txt, tokenizer, max_length, stride)\n",
        "\n",
        "    # Create dataloader\n",
        "    dataloader = DataLoader(\n",
        "        dataset,\n",
        "        batch_size=batch_size,\n",
        "        shuffle=shuffle,\n",
        "        drop_last=drop_last,\n",
        "        num_workers=num_workers\n",
        "    )\n",
        "\n",
        "    return dataloader"
      ],
      "metadata": {
        "colab": {
          "base_uri": "https://localhost:8080/"
        },
        "id": "n1RpXcJDEFC6",
        "outputId": "1b1c4bfb-f21a-4c0c-a7e5-43f2122620b3"
      },
      "execution_count": null,
      "outputs": [
        {
          "output_type": "stream",
          "name": "stdout",
          "text": [
            "tiktoken version: 0.9.0\n"
          ]
        }
      ]
    },
    {
      "cell_type": "code",
      "source": [],
      "metadata": {
        "id": "M2Zjp9K7EIEW"
      },
      "execution_count": null,
      "outputs": []
    },
    {
      "cell_type": "code",
      "source": [],
      "metadata": {
        "colab": {
          "base_uri": "https://localhost:8080/"
        },
        "id": "PtYk9k3BEKho",
        "outputId": "eb0b7dcd-02fb-465d-c025-2885870b7f99"
      },
      "execution_count": null,
      "outputs": [
        {
          "output_type": "stream",
          "name": "stdout",
          "text": [
            "[tensor([[  40,  367, 2885, 1464]]), tensor([[ 367, 2885, 1464, 1807]])]\n"
          ]
        }
      ]
    },
    {
      "cell_type": "code",
      "source": [
        "import torch\n",
        "\n",
        "class TestDataLoaderV1(unittest.TestCase):\n",
        "\n",
        "    def setUp(self):\n",
        "        with open(\"the-verdict.txt\", \"r\", encoding=\"utf-8\") as f:\n",
        "            raw_text = f.read()\n",
        "        self.dataloader = create_dataloader_v1(\n",
        "            raw_text, batch_size=1, max_length=4, stride=1, shuffle=False)\n",
        "\n",
        "    def test_first_batch(self):\n",
        "        data_iter = iter(self.dataloader)\n",
        "        first_batch = next(data_iter)\n",
        "\n",
        "        self.assertEqual(len(first_batch), 2) # Should return input_ids and target_ids\n",
        "        self.assertTrue(torch.equal(first_batch[0], torch.tensor([[  40,  367, 2885, 1464]]))) # input_ids shape\n",
        "        self.assertTrue(torch.equal(first_batch[1], torch.tensor([[ 367, 2885, 1464, 1807]]))) # target_ids shape\n",
        "\n",
        "    def test_second_batch(self):\n",
        "        dataloader_2 = create_dataloader_v1(\n",
        "            raw_text, batch_size=1, max_length=4, stride=1, shuffle=False)\n",
        "        data_iter = iter(dataloader_2)\n",
        "        first_batch = next(data_iter)\n",
        "        second_batch = next(data_iter)\n",
        "\n",
        "        self.assertEqual(len(second_batch), 2) # Should return input_ids and target_ids\n",
        "        self.assertTrue(torch.equal(second_batch[0], torch.tensor([[ 367, 2885, 1464, 1807]]))) # input_ids shape\n",
        "        self.assertTrue(torch.equal(second_batch[1], torch.tensor([[ 2885, 1464, 1807, 3619]]))) # target_ids shape\n",
        "\n",
        "    def test_large_batch_stride(self):\n",
        "        dataloader_2 = create_dataloader_v1(\n",
        "            raw_text, batch_size=8, max_length=4, stride=4, shuffle=False)\n",
        "        data_iter = iter(dataloader_2)\n",
        "        input, target = next(data_iter)\n",
        "\n",
        "        self.assertTrue(torch.equal(input, torch.tensor([[   40,   367,  2885,  1464],\n",
        "        [ 1807,  3619,   402,   271],\n",
        "        [10899,  2138,   257,  7026],\n",
        "        [15632,   438,  2016,   257],\n",
        "        [  922,  5891,  1576,   438],\n",
        "        [  568,   340,   373,   645],\n",
        "        [ 1049,  5975,   284,   502],\n",
        "        [  284,  3285,   326,    11]]))) # input_ids shape\n",
        "        self.assertTrue(torch.equal(target, torch.tensor([[  367,  2885,  1464,  1807],\n",
        "        [ 3619,   402,   271, 10899],\n",
        "        [ 2138,   257,  7026, 15632],\n",
        "        [  438,  2016,   257,   922],\n",
        "        [ 5891,  1576,   438,   568],\n",
        "        [  340,   373,   645,  1049],\n",
        "        [ 5975,   284,   502,   284],\n",
        "        [ 3285,   326,    11,   287]]))) # target_ids shape\n",
        "\n",
        "    # def test_dataloader_overlap(self):\n",
        "    #     max_length = 5\n",
        "    #     stride = 1\n",
        "    #     dataloader = create_dataloader_v1(\n",
        "    #         self.sample_text, batch_size=1, max_length=max_length,\n",
        "    #         stride=stride, shuffle=False, drop_last=False, num_workers=0\n",
        "    #     )\n",
        "\n",
        "    #     data_list = list(dataloader)\n",
        "\n",
        "    #     # Check if the sequences are overlapping correctly based on stride\n",
        "    #     if len(data_list) > 1:\n",
        "    #         input_ids_1 = data_list[0][0].squeeze()\n",
        "    #         input_ids_2 = data_list[1][0].squeeze()\n",
        "    #         self.assertTrue(torch.equal(input_ids_1[stride:], input_ids_2[:-stride]))\n",
        "\n",
        "    # def test_dataloader_target_shift(self):\n",
        "    #     max_length = 5\n",
        "    #     stride = 2\n",
        "    #     dataloader = create_dataloader_v1(\n",
        "    #         self.sample_text, batch_size=2, max_length=max_length,\n",
        "    #         stride=stride, shuffle=False, drop_last=False, num_workers=0\n",
        "    #     )\n",
        "\n",
        "    #     data_iter = iter(dataloader)\n",
        "    #     first_batch = next(data_iter)\n",
        "\n",
        "    #     input_ids = first_batch[0]\n",
        "    #     target_ids = first_batch[1]\n",
        "\n",
        "    #     # Check if the target is the input shifted by one token\n",
        "    #     self.assertTrue(torch.equal(input_ids[:, 1:], target_ids[:, :-1]))\n",
        "\n",
        "    # def test_dataloader_drop_last(self):\n",
        "    #     # Create a text where the last batch would be incomplete if drop_last is True\n",
        "    #     small_text = \"abc\"\n",
        "    #     batch_size = 2\n",
        "    #     max_length = 1\n",
        "\n",
        "    #     dataloader_drop_last_true = create_dataloader_v1(\n",
        "    #         small_text, batch_size=batch_size, max_length=max_length,\n",
        "    #         stride=1, shuffle=False, drop_last=True, num_workers=0\n",
        "    #     )\n",
        "    #     # Expected number of batches with drop_last=True: floor(len(dataset) / batch_size)\n",
        "    #     # len(dataset) is approx len(tokenized_text) - max_length.\n",
        "    #     # For small_text=\"abc\", max_length=1, len(tokenized_text) approx 3, len(dataset) approx 2.\n",
        "    #     # floor(2 / 2) = 1\n",
        "    #     self.assertEqual(len(list(dataloader_drop_last_true)), 1)\n",
        "\n",
        "    #     dataloader_drop_last_false = create_dataloader_v1(\n",
        "    #         small_text, batch_size=batch_size, max_length=max_length,\n",
        "    #         stride=1, shuffle=False, drop_last=False, num_workers=0\n",
        "    #     )\n",
        "    #     # Expected number of batches with drop_last=False: ceil(len(dataset) / batch_size)\n",
        "    #     # ceil(2 / 2) = 1\n",
        "    #     self.assertEqual(len(list(dataloader_drop_last_false)), 1)\n",
        "\n",
        "\n",
        "# To run the tests in a Colab notebook:\n",
        "if __name__ == '__main__':\n",
        "    unittest.main(argv=['first-arg-is-ignored'], exit=False)"
      ],
      "metadata": {
        "colab": {
          "base_uri": "https://localhost:8080/"
        },
        "id": "ooqGUJYyEzUE",
        "outputId": "fbda609d-2773-4f0e-a8e3-fb96a50842d0"
      },
      "execution_count": null,
      "outputs": [
        {
          "output_type": "stream",
          "name": "stderr",
          "text": [
            "...............\n",
            "----------------------------------------------------------------------\n",
            "Ran 15 tests in 0.576s\n",
            "\n",
            "OK\n"
          ]
        }
      ]
    },
    {
      "cell_type": "code",
      "metadata": {
        "id": "H5mimxnfYW_M"
      },
      "source": [
        "import regex as re\n",
        "\n",
        "class SimpleTokenizerV1:\n",
        "    def __init__(self, vocab):\n",
        "        self.str_to_int = vocab\n",
        "        self.int_to_str = {v: k for k, v in vocab.items()}\n",
        "\n",
        "    def encode(self, text):\n",
        "        preprocessed = re.split(r'([,.:;?_!\"()\\']|--|\\s)', text)\n",
        "        preprocessed = [\n",
        "            item.strip() for item in preprocessed if item.strip()\n",
        "        ]\n",
        "        ids = [self.str_to_int[s] for s in preprocessed]\n",
        "        return ids\n",
        "\n",
        "    def decode(self, ids):\n",
        "        text = \" \".join([self.int_to_str[i] for i in ids])\n",
        "        # Replace spaces before the specified punctuations\n",
        "        text = re.sub(r'\\s+([,.?!\"()\\'])', r'\\1', text)\n",
        "        return text"
      ],
      "execution_count": null,
      "outputs": []
    },
    {
      "cell_type": "code",
      "metadata": {
        "id": "9vHgxfQzYXCD"
      },
      "source": [
        "import regex as re\n",
        "\n",
        "class SimpleTokenizerV2:\n",
        "    def __init__(self, vocab):\n",
        "        vocab.update({\"<|endoftext|>\": len(vocab)})\n",
        "        vocab.update({\"<|unk|>\": len(vocab)})\n",
        "        self.str_to_int = vocab\n",
        "        self.int_to_str = {v: k for k, v in vocab.items()}\n",
        "\n",
        "    def encode(self, text):\n",
        "        preprocessed = re.split(r'([,.:;?_!\"()\\']|--|\\s)', text)\n",
        "        preprocessed = [\n",
        "            item.strip() for item in preprocessed if item.strip()\n",
        "        ]\n",
        "        preprocessed = [\n",
        "            item if item in self.str_to_int\n",
        "            else \"<|unk|>\" for item in preprocessed\n",
        "        ]\n",
        "\n",
        "        ids = [self.str_to_int[s] for s in preprocessed]\n",
        "        return ids\n",
        "\n",
        "    def decode(self, ids):\n",
        "        text = \" \".join([self.int_to_str[i] for i in ids])\n",
        "        # Replace spaces before the specified punctuations\n",
        "        text = re.sub(r'\\s+([,.?!\"()\\'])', r'\\1', text)\n",
        "        return text"
      ],
      "execution_count": null,
      "outputs": []
    }
  ]
}