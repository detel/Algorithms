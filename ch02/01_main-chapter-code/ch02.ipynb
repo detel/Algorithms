{
  "cells": [
    {
      "cell_type": "markdown",
      "id": "d95f841a-63c9-41d4-aea1-496b3d2024dd",
      "metadata": {
        "id": "d95f841a-63c9-41d4-aea1-496b3d2024dd"
      },
      "source": [
        "<table style=\"width:100%\">\n",
        "<tr>\n",
        "<td style=\"vertical-align:middle; text-align:left;\">\n",
        "<font size=\"2\">\n",
        "Supplementary code for the <a href=\"http://mng.bz/orYv\">Build a Large Language Model From Scratch</a> book by <a href=\"https://sebastianraschka.com\">Sebastian Raschka</a><br>\n",
        "<br>Code repository: <a href=\"https://github.com/rasbt/LLMs-from-scratch\">https://github.com/rasbt/LLMs-from-scratch</a>\n",
        "</font>\n",
        "</td>\n",
        "<td style=\"vertical-align:middle; text-align:left;\">\n",
        "<a href=\"http://mng.bz/orYv\"><img src=\"https://sebastianraschka.com/images/LLMs-from-scratch-images/cover-small.webp\" width=\"100px\"></a>\n",
        "</td>\n",
        "</tr>\n",
        "</table>\n"
      ]
    },
    {
      "cell_type": "markdown",
      "id": "25aa40e3-5109-433f-9153-f5770531fe94",
      "metadata": {
        "id": "25aa40e3-5109-433f-9153-f5770531fe94"
      },
      "source": [
        "# Chapter 2: Working with Text Data"
      ]
    },
    {
      "cell_type": "markdown",
      "id": "76d5d2c0-cba8-404e-9bf3-71a218cae3cf",
      "metadata": {
        "id": "76d5d2c0-cba8-404e-9bf3-71a218cae3cf"
      },
      "source": [
        "Packages that are being used in this notebook:"
      ]
    },
    {
      "cell_type": "code",
      "execution_count": 1,
      "id": "4d1305cf-12d5-46fe-a2c9-36fb71c5b3d3",
      "metadata": {
        "colab": {
          "base_uri": "https://localhost:8080/"
        },
        "id": "4d1305cf-12d5-46fe-a2c9-36fb71c5b3d3",
        "outputId": "59b86715-b27e-4c96-8e34-031b4f6e8708"
      },
      "outputs": [
        {
          "output_type": "stream",
          "name": "stdout",
          "text": [
            "torch version: 2.6.0+cu124\n",
            "tiktoken version: 0.9.0\n"
          ]
        }
      ],
      "source": [
        "from importlib.metadata import version\n",
        "\n",
        "print(\"torch version:\", version(\"torch\"))\n",
        "print(\"tiktoken version:\", version(\"tiktoken\"))"
      ]
    },
    {
      "cell_type": "markdown",
      "id": "5a42fbfd-e3c2-43c2-bc12-f5f870a0b10a",
      "metadata": {
        "id": "5a42fbfd-e3c2-43c2-bc12-f5f870a0b10a"
      },
      "source": [
        "- This chapter covers data preparation and sampling to get input data \"ready\" for the LLM"
      ]
    },
    {
      "cell_type": "markdown",
      "id": "628b2922-594d-4ff9-bd82-04f1ebdf41f5",
      "metadata": {
        "id": "628b2922-594d-4ff9-bd82-04f1ebdf41f5"
      },
      "source": [
        "<img src=\"https://sebastianraschka.com/images/LLMs-from-scratch-images/ch02_compressed/01.webp?timestamp=1\" width=\"500px\">"
      ]
    },
    {
      "cell_type": "markdown",
      "id": "2417139b-2357-44d2-bd67-23f5d7f52ae7",
      "metadata": {
        "id": "2417139b-2357-44d2-bd67-23f5d7f52ae7"
      },
      "source": [
        "## 2.1 Understanding word embeddings"
      ]
    },
    {
      "cell_type": "markdown",
      "id": "0b6816ae-e927-43a9-b4dd-e47a9b0e1cf6",
      "metadata": {
        "id": "0b6816ae-e927-43a9-b4dd-e47a9b0e1cf6"
      },
      "source": [
        "- No code in this section"
      ]
    },
    {
      "cell_type": "markdown",
      "id": "4f69dab7-a433-427a-9e5b-b981062d6296",
      "metadata": {
        "id": "4f69dab7-a433-427a-9e5b-b981062d6296"
      },
      "source": [
        "- There are many forms of embeddings; we focus on text embeddings in this book"
      ]
    },
    {
      "cell_type": "markdown",
      "id": "ba08d16f-f237-4166-bf89-0e9fe703e7b4",
      "metadata": {
        "id": "ba08d16f-f237-4166-bf89-0e9fe703e7b4"
      },
      "source": [
        "<img src=\"https://sebastianraschka.com/images/LLMs-from-scratch-images/ch02_compressed/02.webp\" width=\"500px\">"
      ]
    },
    {
      "cell_type": "markdown",
      "id": "288c4faf-b93a-4616-9276-7a4aa4b5e9ba",
      "metadata": {
        "id": "288c4faf-b93a-4616-9276-7a4aa4b5e9ba"
      },
      "source": [
        "- LLMs work with embeddings in high-dimensional spaces (i.e., thousands of dimensions)\n",
        "- Since we can't visualize such high-dimensional spaces (we humans think in 1, 2, or 3 dimensions), the figure below illustrates a 2-dimensional embedding space"
      ]
    },
    {
      "cell_type": "markdown",
      "id": "d6b80160-1f10-4aad-a85e-9c79444de9e6",
      "metadata": {
        "id": "d6b80160-1f10-4aad-a85e-9c79444de9e6"
      },
      "source": [
        "<img src=\"https://sebastianraschka.com/images/LLMs-from-scratch-images/ch02_compressed/03.webp\" width=\"300px\">"
      ]
    },
    {
      "cell_type": "markdown",
      "id": "eddbb984-8d23-40c5-bbfa-c3c379e7eec3",
      "metadata": {
        "id": "eddbb984-8d23-40c5-bbfa-c3c379e7eec3"
      },
      "source": [
        "## 2.2 Tokenizing text"
      ]
    },
    {
      "cell_type": "markdown",
      "id": "f9c90731-7dc9-4cd3-8c4a-488e33b48e80",
      "metadata": {
        "id": "f9c90731-7dc9-4cd3-8c4a-488e33b48e80"
      },
      "source": [
        "- In this section, we tokenize text, which means breaking text into smaller units, such as individual words and punctuation characters"
      ]
    },
    {
      "cell_type": "markdown",
      "id": "09872fdb-9d4e-40c4-949d-52a01a43ec4b",
      "metadata": {
        "id": "09872fdb-9d4e-40c4-949d-52a01a43ec4b"
      },
      "source": [
        "<img src=\"https://sebastianraschka.com/images/LLMs-from-scratch-images/ch02_compressed/04.webp\" width=\"300px\">"
      ]
    },
    {
      "cell_type": "markdown",
      "id": "8cceaa18-833d-46b6-b211-b20c53902805",
      "metadata": {
        "id": "8cceaa18-833d-46b6-b211-b20c53902805"
      },
      "source": [
        "- Load raw text we want to work with\n",
        "- [The Verdict by Edith Wharton](https://en.wikisource.org/wiki/The_Verdict) is a public domain short story"
      ]
    },
    {
      "cell_type": "code",
      "execution_count": 2,
      "id": "40f9d9b1-6d32-485a-825a-a95392a86d79",
      "metadata": {
        "id": "40f9d9b1-6d32-485a-825a-a95392a86d79"
      },
      "outputs": [],
      "source": [
        "import os\n",
        "import urllib.request\n",
        "\n",
        "if not os.path.exists(\"the-verdict.txt\"):\n",
        "    url = (\"https://raw.githubusercontent.com/rasbt/\"\n",
        "           \"LLMs-from-scratch/main/ch02/01_main-chapter-code/\"\n",
        "           \"the-verdict.txt\")\n",
        "    file_path = \"the-verdict.txt\"\n",
        "    urllib.request.urlretrieve(url, file_path)"
      ]
    },
    {
      "cell_type": "markdown",
      "id": "56488f2c-a2b8-49f1-aaeb-461faad08dce",
      "metadata": {
        "id": "56488f2c-a2b8-49f1-aaeb-461faad08dce"
      },
      "source": [
        "- (If you encounter an `ssl.SSLCertVerificationError` when executing the previous code cell, it might be due to using an outdated Python version; you can find [more information here on GitHub](https://github.com/rasbt/LLMs-from-scratch/pull/403))"
      ]
    },
    {
      "cell_type": "code",
      "execution_count": 3,
      "id": "8a769e87-470a-48b9-8bdb-12841b416198",
      "metadata": {
        "colab": {
          "base_uri": "https://localhost:8080/"
        },
        "id": "8a769e87-470a-48b9-8bdb-12841b416198",
        "outputId": "2120068a-f711-4632-ce48-9e7a8f7c6e16"
      },
      "outputs": [
        {
          "output_type": "stream",
          "name": "stdout",
          "text": [
            "Total number of character: 20479\n",
            "I HAD always thought Jack Gisburn rather a cheap genius--though a good fellow enough--so it was no \n"
          ]
        }
      ],
      "source": [
        "with open(\"the-verdict.txt\", \"r\", encoding=\"utf-8\") as f:\n",
        "    raw_text = f.read()\n",
        "\n",
        "print(\"Total number of character:\", len(raw_text))\n",
        "print(raw_text[:99])"
      ]
    },
    {
      "cell_type": "markdown",
      "id": "9b971a46-ac03-4368-88ae-3f20279e8f4e",
      "metadata": {
        "id": "9b971a46-ac03-4368-88ae-3f20279e8f4e"
      },
      "source": [
        "- The goal is to tokenize and embed this text for an LLM\n",
        "- Let's develop a simple tokenizer based on some simple sample text that we can then later apply to the text above\n",
        "- The following regular expression will split on whitespaces"
      ]
    },
    {
      "cell_type": "code",
      "execution_count": 4,
      "id": "737dd5b0-9dbb-4a97-9ae4-3482c8c04be7",
      "metadata": {
        "colab": {
          "base_uri": "https://localhost:8080/"
        },
        "id": "737dd5b0-9dbb-4a97-9ae4-3482c8c04be7",
        "outputId": "d9cafe69-1087-4b9d-b7a8-6d473285a5e6"
      },
      "outputs": [
        {
          "output_type": "stream",
          "name": "stdout",
          "text": [
            "['Hello,', ' ', 'world.', ' ', 'This,', ' ', 'is', ' ', 'a', ' ', 'test.']\n"
          ]
        }
      ],
      "source": [
        "import re\n",
        "\n",
        "text = \"Hello, world. This, is a test.\"\n",
        "result = re.split(r'(\\s)', text)\n",
        "\n",
        "print(result)"
      ]
    },
    {
      "cell_type": "markdown",
      "id": "a8c40c18-a9d5-4703-bf71-8261dbcc5ee3",
      "metadata": {
        "id": "a8c40c18-a9d5-4703-bf71-8261dbcc5ee3"
      },
      "source": [
        "- We don't only want to split on whitespaces but also commas and periods, so let's modify the regular expression to do that as well"
      ]
    },
    {
      "cell_type": "code",
      "execution_count": 5,
      "id": "ea02489d-01f9-4247-b7dd-a0d63f62ef07",
      "metadata": {
        "colab": {
          "base_uri": "https://localhost:8080/"
        },
        "id": "ea02489d-01f9-4247-b7dd-a0d63f62ef07",
        "outputId": "76a4aa00-5d61-40bb-d522-6e7fbc9dfd4f"
      },
      "outputs": [
        {
          "output_type": "stream",
          "name": "stdout",
          "text": [
            "['Hello', ',', '', ' ', 'world', '.', '', ' ', 'This', ',', '', ' ', 'is', ' ', 'a', ' ', 'test', '.', '']\n"
          ]
        }
      ],
      "source": [
        "result = re.split(r'([,.]|\\s)', text)\n",
        "\n",
        "print(result)"
      ]
    },
    {
      "cell_type": "markdown",
      "id": "461d0c86-e3af-4f87-8fae-594a9ca9b6ad",
      "metadata": {
        "id": "461d0c86-e3af-4f87-8fae-594a9ca9b6ad"
      },
      "source": [
        "- As we can see, this creates empty strings, let's remove them"
      ]
    },
    {
      "cell_type": "code",
      "execution_count": 6,
      "id": "4d8a6fb7-2e62-4a12-ad06-ccb04f25fed7",
      "metadata": {
        "colab": {
          "base_uri": "https://localhost:8080/"
        },
        "id": "4d8a6fb7-2e62-4a12-ad06-ccb04f25fed7",
        "outputId": "aa020666-5ade-424c-afe2-5d6edbd348ed"
      },
      "outputs": [
        {
          "output_type": "stream",
          "name": "stdout",
          "text": [
            "['Hello', ',', 'world', '.', 'This', ',', 'is', 'a', 'test', '.']\n"
          ]
        }
      ],
      "source": [
        "# Strip whitespace from each item and then filter out any empty strings.\n",
        "result = [item for item in result if item.strip()]\n",
        "print(result)"
      ]
    },
    {
      "cell_type": "markdown",
      "id": "250e8694-181e-496f-895d-7cb7d92b5562",
      "metadata": {
        "id": "250e8694-181e-496f-895d-7cb7d92b5562"
      },
      "source": [
        "- This looks pretty good, but let's also handle other types of punctuation, such as periods, question marks, and so on"
      ]
    },
    {
      "cell_type": "code",
      "execution_count": 7,
      "id": "ed3a9467-04b4-49d9-96c5-b8042bcf8374",
      "metadata": {
        "colab": {
          "base_uri": "https://localhost:8080/"
        },
        "id": "ed3a9467-04b4-49d9-96c5-b8042bcf8374",
        "outputId": "ceb5c544-19c9-48d9-e1c9-e6fc43bd84c3"
      },
      "outputs": [
        {
          "output_type": "stream",
          "name": "stdout",
          "text": [
            "['Hello', ',', 'world', '.', 'Is', 'this', '--', 'a', 'test', '?']\n"
          ]
        }
      ],
      "source": [
        "text = \"Hello, world. Is this-- a test?\"\n",
        "\n",
        "result = re.split(r'([,.:;?_!\"()\\']|--|\\s)', text)\n",
        "result = [item.strip() for item in result if item.strip()]\n",
        "print(result)"
      ]
    },
    {
      "cell_type": "markdown",
      "id": "5bbea70b-c030-45d9-b09d-4318164c0bb4",
      "metadata": {
        "id": "5bbea70b-c030-45d9-b09d-4318164c0bb4"
      },
      "source": [
        "- This is pretty good, and we are now ready to apply this tokenization to the raw text"
      ]
    },
    {
      "cell_type": "markdown",
      "id": "6cbe9330-b587-4262-be9f-497a84ec0e8a",
      "metadata": {
        "id": "6cbe9330-b587-4262-be9f-497a84ec0e8a"
      },
      "source": [
        "<img src=\"https://sebastianraschka.com/images/LLMs-from-scratch-images/ch02_compressed/05.webp\" width=\"350px\">"
      ]
    },
    {
      "cell_type": "code",
      "execution_count": 8,
      "id": "8c567caa-8ff5-49a8-a5cc-d365b0a78a99",
      "metadata": {
        "colab": {
          "base_uri": "https://localhost:8080/"
        },
        "id": "8c567caa-8ff5-49a8-a5cc-d365b0a78a99",
        "outputId": "11c30af4-e490-416f-818b-2396f6873dfb"
      },
      "outputs": [
        {
          "output_type": "stream",
          "name": "stdout",
          "text": [
            "['I', 'HAD', 'always', 'thought', 'Jack', 'Gisburn', 'rather', 'a', 'cheap', 'genius', '--', 'though', 'a', 'good', 'fellow', 'enough', '--', 'so', 'it', 'was', 'no', 'great', 'surprise', 'to', 'me', 'to', 'hear', 'that', ',', 'in']\n"
          ]
        }
      ],
      "source": [
        "preprocessed = re.split(r'([,.:;?_!\"()\\']|--|\\s)', raw_text)\n",
        "preprocessed = [item.strip() for item in preprocessed if item.strip()]\n",
        "print(preprocessed[:30])"
      ]
    },
    {
      "cell_type": "markdown",
      "id": "e2a19e1a-5105-4ddb-812a-b7d3117eab95",
      "metadata": {
        "id": "e2a19e1a-5105-4ddb-812a-b7d3117eab95"
      },
      "source": [
        "- Let's calculate the total number of tokens"
      ]
    },
    {
      "cell_type": "code",
      "execution_count": 9,
      "id": "35db7b5e-510b-4c45-995f-f5ad64a8e19c",
      "metadata": {
        "colab": {
          "base_uri": "https://localhost:8080/"
        },
        "id": "35db7b5e-510b-4c45-995f-f5ad64a8e19c",
        "outputId": "d0dfbef2-103f-4bbd-ba3e-54a0e3a2accc"
      },
      "outputs": [
        {
          "output_type": "stream",
          "name": "stdout",
          "text": [
            "4690\n"
          ]
        }
      ],
      "source": [
        "print(len(preprocessed))"
      ]
    },
    {
      "cell_type": "markdown",
      "id": "0b5ce8fe-3a07-4f2a-90f1-a0321ce3a231",
      "metadata": {
        "id": "0b5ce8fe-3a07-4f2a-90f1-a0321ce3a231"
      },
      "source": [
        "## 2.3 Converting tokens into token IDs"
      ]
    },
    {
      "cell_type": "markdown",
      "id": "a5204973-f414-4c0d-87b0-cfec1f06e6ff",
      "metadata": {
        "id": "a5204973-f414-4c0d-87b0-cfec1f06e6ff"
      },
      "source": [
        "- Next, we convert the text tokens into token IDs that we can process via embedding layers later"
      ]
    },
    {
      "cell_type": "markdown",
      "id": "177b041d-f739-43b8-bd81-0443ae3a7f8d",
      "metadata": {
        "id": "177b041d-f739-43b8-bd81-0443ae3a7f8d"
      },
      "source": [
        "<img src=\"https://sebastianraschka.com/images/LLMs-from-scratch-images/ch02_compressed/06.webp\" width=\"500px\">"
      ]
    },
    {
      "cell_type": "markdown",
      "id": "b5973794-7002-4202-8b12-0900cd779720",
      "metadata": {
        "id": "b5973794-7002-4202-8b12-0900cd779720"
      },
      "source": [
        "- From these tokens, we can now build a vocabulary that consists of all the unique tokens"
      ]
    },
    {
      "cell_type": "code",
      "execution_count": 10,
      "id": "7fdf0533-5ab6-42a5-83fa-a3b045de6396",
      "metadata": {
        "colab": {
          "base_uri": "https://localhost:8080/"
        },
        "id": "7fdf0533-5ab6-42a5-83fa-a3b045de6396",
        "outputId": "7bf4c913-a513-40d0-be6a-4ec77eafe78d"
      },
      "outputs": [
        {
          "output_type": "stream",
          "name": "stdout",
          "text": [
            "1130\n"
          ]
        }
      ],
      "source": [
        "all_words = sorted(set(preprocessed))\n",
        "vocab_size = len(all_words)\n",
        "\n",
        "print(vocab_size)"
      ]
    },
    {
      "cell_type": "code",
      "execution_count": 11,
      "id": "77d00d96-881f-4691-bb03-84fec2a75a26",
      "metadata": {
        "id": "77d00d96-881f-4691-bb03-84fec2a75a26"
      },
      "outputs": [],
      "source": [
        "vocab = {token:integer for integer,token in enumerate(all_words)}"
      ]
    },
    {
      "cell_type": "markdown",
      "id": "75bd1f81-3a8f-4dd9-9dd6-e75f32dacbe3",
      "metadata": {
        "id": "75bd1f81-3a8f-4dd9-9dd6-e75f32dacbe3"
      },
      "source": [
        "- Below are the first 50 entries in this vocabulary:"
      ]
    },
    {
      "cell_type": "code",
      "execution_count": 12,
      "id": "e1c5de4a-aa4e-4aec-b532-10bb364039d6",
      "metadata": {
        "colab": {
          "base_uri": "https://localhost:8080/"
        },
        "id": "e1c5de4a-aa4e-4aec-b532-10bb364039d6",
        "outputId": "7ab65716-772f-4fb4-9d90-3b97ae915ea1"
      },
      "outputs": [
        {
          "output_type": "stream",
          "name": "stdout",
          "text": [
            "('!', 0)\n",
            "('\"', 1)\n",
            "(\"'\", 2)\n",
            "('(', 3)\n",
            "(')', 4)\n",
            "(',', 5)\n",
            "('--', 6)\n",
            "('.', 7)\n",
            "(':', 8)\n",
            "(';', 9)\n",
            "('?', 10)\n",
            "('A', 11)\n",
            "('Ah', 12)\n",
            "('Among', 13)\n",
            "('And', 14)\n",
            "('Are', 15)\n",
            "('Arrt', 16)\n",
            "('As', 17)\n",
            "('At', 18)\n",
            "('Be', 19)\n",
            "('Begin', 20)\n",
            "('Burlington', 21)\n",
            "('But', 22)\n",
            "('By', 23)\n",
            "('Carlo', 24)\n",
            "('Chicago', 25)\n",
            "('Claude', 26)\n",
            "('Come', 27)\n",
            "('Croft', 28)\n",
            "('Destroyed', 29)\n",
            "('Devonshire', 30)\n",
            "('Don', 31)\n",
            "('Dubarry', 32)\n",
            "('Emperors', 33)\n",
            "('Florence', 34)\n",
            "('For', 35)\n",
            "('Gallery', 36)\n",
            "('Gideon', 37)\n",
            "('Gisburn', 38)\n",
            "('Gisburns', 39)\n",
            "('Grafton', 40)\n",
            "('Greek', 41)\n",
            "('Grindle', 42)\n",
            "('Grindles', 43)\n",
            "('HAD', 44)\n",
            "('Had', 45)\n",
            "('Hang', 46)\n",
            "('Has', 47)\n",
            "('He', 48)\n",
            "('Her', 49)\n",
            "('Hermia', 50)\n"
          ]
        }
      ],
      "source": [
        "for i, item in enumerate(vocab.items()):\n",
        "    print(item)\n",
        "    if i >= 50:\n",
        "        break"
      ]
    },
    {
      "cell_type": "markdown",
      "id": "3b1dc314-351b-476a-9459-0ec9ddc29b19",
      "metadata": {
        "id": "3b1dc314-351b-476a-9459-0ec9ddc29b19"
      },
      "source": [
        "- Below, we illustrate the tokenization of a short sample text using a small vocabulary:"
      ]
    },
    {
      "cell_type": "markdown",
      "id": "67407a9f-0202-4e7c-9ed7-1b3154191ebc",
      "metadata": {
        "id": "67407a9f-0202-4e7c-9ed7-1b3154191ebc"
      },
      "source": [
        "<img src=\"https://sebastianraschka.com/images/LLMs-from-scratch-images/ch02_compressed/07.webp?123\" width=\"500px\">"
      ]
    },
    {
      "cell_type": "markdown",
      "id": "4e569647-2589-4c9d-9a5c-aef1c88a0a9a",
      "metadata": {
        "id": "4e569647-2589-4c9d-9a5c-aef1c88a0a9a"
      },
      "source": [
        "- Putting it now all together into a tokenizer class"
      ]
    },
    {
      "cell_type": "code",
      "execution_count": 13,
      "id": "f531bf46-7c25-4ef8-bff8-0d27518676d5",
      "metadata": {
        "id": "f531bf46-7c25-4ef8-bff8-0d27518676d5"
      },
      "outputs": [],
      "source": [
        "class SimpleTokenizerV1:\n",
        "    def __init__(self, vocab):\n",
        "        self.str_to_int = vocab\n",
        "        self.int_to_str = {i:s for s,i in vocab.items()}\n",
        "\n",
        "    def encode(self, text):\n",
        "        preprocessed = re.split(r'([,.:;?_!\"()\\']|--|\\s)', text)\n",
        "\n",
        "        preprocessed = [\n",
        "            item.strip() for item in preprocessed if item.strip()\n",
        "        ]\n",
        "        ids = [self.str_to_int[s] for s in preprocessed]\n",
        "        return ids\n",
        "\n",
        "    def decode(self, ids):\n",
        "        text = \" \".join([self.int_to_str[i] for i in ids])\n",
        "        # Replace spaces before the specified punctuations\n",
        "        text = re.sub(r'\\s+([,.?!\"()\\'])', r'\\1', text)\n",
        "        return text"
      ]
    },
    {
      "cell_type": "markdown",
      "id": "dee7a1e5-b54f-4ca1-87ef-3d663c4ee1e7",
      "metadata": {
        "id": "dee7a1e5-b54f-4ca1-87ef-3d663c4ee1e7"
      },
      "source": [
        "- The `encode` function turns text into token IDs\n",
        "- The `decode` function turns token IDs back into text"
      ]
    },
    {
      "cell_type": "markdown",
      "id": "cc21d347-ec03-4823-b3d4-9d686e495617",
      "metadata": {
        "id": "cc21d347-ec03-4823-b3d4-9d686e495617"
      },
      "source": [
        "<img src=\"https://sebastianraschka.com/images/LLMs-from-scratch-images/ch02_compressed/08.webp?123\" width=\"500px\">"
      ]
    },
    {
      "cell_type": "markdown",
      "id": "c2950a94-6b0d-474e-8ed0-66d0c3c1a95c",
      "metadata": {
        "id": "c2950a94-6b0d-474e-8ed0-66d0c3c1a95c"
      },
      "source": [
        "- We can use the tokenizer to encode (that is, tokenize) texts into integers\n",
        "- These integers can then be embedded (later) as input of/for the LLM"
      ]
    },
    {
      "cell_type": "code",
      "execution_count": 14,
      "id": "647364ec-7995-4654-9b4a-7607ccf5f1e4",
      "metadata": {
        "colab": {
          "base_uri": "https://localhost:8080/"
        },
        "id": "647364ec-7995-4654-9b4a-7607ccf5f1e4",
        "outputId": "cf2f0002-09e6-4524-e357-e928321be067"
      },
      "outputs": [
        {
          "output_type": "stream",
          "name": "stdout",
          "text": [
            "[1, 56, 2, 850, 988, 602, 533, 746, 5, 1126, 596, 5, 1, 67, 7, 38, 851, 1108, 754, 793, 7]\n"
          ]
        }
      ],
      "source": [
        "tokenizer = SimpleTokenizerV1(vocab)\n",
        "\n",
        "text = \"\"\"\"It's the last he painted, you know,\"\n",
        "           Mrs. Gisburn said with pardonable pride.\"\"\"\n",
        "ids = tokenizer.encode(text)\n",
        "print(ids)"
      ]
    },
    {
      "cell_type": "markdown",
      "id": "3201706e-a487-4b60-b99d-5765865f29a0",
      "metadata": {
        "id": "3201706e-a487-4b60-b99d-5765865f29a0"
      },
      "source": [
        "- We can decode the integers back into text"
      ]
    },
    {
      "cell_type": "code",
      "execution_count": 15,
      "id": "01d8c8fb-432d-4a49-b332-99f23b233746",
      "metadata": {
        "colab": {
          "base_uri": "https://localhost:8080/",
          "height": 35
        },
        "id": "01d8c8fb-432d-4a49-b332-99f23b233746",
        "outputId": "77e278f3-450e-44e1-fb6b-c026d028fb72"
      },
      "outputs": [
        {
          "output_type": "execute_result",
          "data": {
            "text/plain": [
              "'\" It\\' s the last he painted, you know,\" Mrs. Gisburn said with pardonable pride.'"
            ],
            "application/vnd.google.colaboratory.intrinsic+json": {
              "type": "string"
            }
          },
          "metadata": {},
          "execution_count": 15
        }
      ],
      "source": [
        "tokenizer.decode(ids)"
      ]
    },
    {
      "cell_type": "code",
      "execution_count": 16,
      "id": "54f6aa8b-9827-412e-9035-e827296ab0fe",
      "metadata": {
        "colab": {
          "base_uri": "https://localhost:8080/",
          "height": 35
        },
        "id": "54f6aa8b-9827-412e-9035-e827296ab0fe",
        "outputId": "002cbcc3-39d0-4cb0-bad7-ed333e74e69b"
      },
      "outputs": [
        {
          "output_type": "execute_result",
          "data": {
            "text/plain": [
              "'\" It\\' s the last he painted, you know,\" Mrs. Gisburn said with pardonable pride.'"
            ],
            "application/vnd.google.colaboratory.intrinsic+json": {
              "type": "string"
            }
          },
          "metadata": {},
          "execution_count": 16
        }
      ],
      "source": [
        "tokenizer.decode(tokenizer.encode(text))"
      ]
    },
    {
      "cell_type": "markdown",
      "id": "4b821ef8-4d53-43b6-a2b2-aef808c343c7",
      "metadata": {
        "id": "4b821ef8-4d53-43b6-a2b2-aef808c343c7"
      },
      "source": [
        "## 2.4 Adding special context tokens"
      ]
    },
    {
      "cell_type": "markdown",
      "id": "863d6d15-a3e2-44e0-b384-bb37f17cf443",
      "metadata": {
        "id": "863d6d15-a3e2-44e0-b384-bb37f17cf443"
      },
      "source": [
        "- It's useful to add some \"special\" tokens for unknown words and to denote the end of a text"
      ]
    },
    {
      "cell_type": "markdown",
      "id": "aa7fc96c-e1fd-44fb-b7f5-229d7c7922a4",
      "metadata": {
        "id": "aa7fc96c-e1fd-44fb-b7f5-229d7c7922a4"
      },
      "source": [
        "<img src=\"https://sebastianraschka.com/images/LLMs-from-scratch-images/ch02_compressed/09.webp?123\" width=\"500px\">"
      ]
    },
    {
      "cell_type": "markdown",
      "id": "9d709d57-2486-4152-b7f9-d3e4bd8634cd",
      "metadata": {
        "id": "9d709d57-2486-4152-b7f9-d3e4bd8634cd"
      },
      "source": [
        "- Some tokenizers use special tokens to help the LLM with additional context\n",
        "- Some of these special tokens are\n",
        "  - `[BOS]` (beginning of sequence) marks the beginning of text\n",
        "  - `[EOS]` (end of sequence) marks where the text ends (this is usually used to concatenate multiple unrelated texts, e.g., two different Wikipedia articles or two different books, and so on)\n",
        "  - `[PAD]` (padding) if we train LLMs with a batch size greater than 1 (we may include multiple texts with different lengths; with the padding token we pad the shorter texts to the longest length so that all texts have an equal length)\n",
        "- `[UNK]` to represent words that are not included in the vocabulary\n",
        "\n",
        "- Note that GPT-2 does not need any of these tokens mentioned above but only uses an `<|endoftext|>` token to reduce complexity\n",
        "- The `<|endoftext|>` is analogous to the `[EOS]` token mentioned above\n",
        "- GPT also uses the `<|endoftext|>` for padding (since we typically use a mask when training on batched inputs, we would not attend padded tokens anyways, so it does not matter what these tokens are)\n",
        "- GPT-2 does not use an `<UNK>` token for out-of-vocabulary words; instead, GPT-2 uses a byte-pair encoding (BPE) tokenizer, which breaks down words into subword units which we will discuss in a later section\n",
        "\n"
      ]
    },
    {
      "cell_type": "markdown",
      "id": "a336b43b-7173-49e7-bd80-527ad4efb271",
      "metadata": {
        "id": "a336b43b-7173-49e7-bd80-527ad4efb271"
      },
      "source": [
        "- We use the `<|endoftext|>` tokens between two independent sources of text:"
      ]
    },
    {
      "cell_type": "markdown",
      "id": "52442951-752c-4855-9752-b121a17fef55",
      "metadata": {
        "id": "52442951-752c-4855-9752-b121a17fef55"
      },
      "source": [
        "<img src=\"https://sebastianraschka.com/images/LLMs-from-scratch-images/ch02_compressed/10.webp\" width=\"500px\">"
      ]
    },
    {
      "cell_type": "markdown",
      "id": "c661a397-da06-4a86-ac27-072dbe7cb172",
      "metadata": {
        "id": "c661a397-da06-4a86-ac27-072dbe7cb172"
      },
      "source": [
        "- Let's see what happens if we tokenize the following text:"
      ]
    },
    {
      "cell_type": "code",
      "execution_count": 17,
      "id": "d5767eff-440c-4de1-9289-f789349d6b85",
      "metadata": {
        "colab": {
          "base_uri": "https://localhost:8080/",
          "height": 321
        },
        "id": "d5767eff-440c-4de1-9289-f789349d6b85",
        "outputId": "785893c4-6163-4373-a4e5-0eab2991759d"
      },
      "outputs": [
        {
          "output_type": "error",
          "ename": "KeyError",
          "evalue": "'Hello'",
          "traceback": [
            "\u001b[0;31m---------------------------------------------------------------------------\u001b[0m",
            "\u001b[0;31mKeyError\u001b[0m                                  Traceback (most recent call last)",
            "\u001b[0;32m/tmp/ipython-input-17-2162118319.py\u001b[0m in \u001b[0;36m<cell line: 0>\u001b[0;34m()\u001b[0m\n\u001b[1;32m      3\u001b[0m \u001b[0mtext\u001b[0m \u001b[0;34m=\u001b[0m \u001b[0;34m\"Hello, do you like tea. Is this-- a test?\"\u001b[0m\u001b[0;34m\u001b[0m\u001b[0;34m\u001b[0m\u001b[0m\n\u001b[1;32m      4\u001b[0m \u001b[0;34m\u001b[0m\u001b[0m\n\u001b[0;32m----> 5\u001b[0;31m \u001b[0mtokenizer\u001b[0m\u001b[0;34m.\u001b[0m\u001b[0mencode\u001b[0m\u001b[0;34m(\u001b[0m\u001b[0mtext\u001b[0m\u001b[0;34m)\u001b[0m\u001b[0;34m\u001b[0m\u001b[0;34m\u001b[0m\u001b[0m\n\u001b[0m",
            "\u001b[0;32m/tmp/ipython-input-13-2118097954.py\u001b[0m in \u001b[0;36mencode\u001b[0;34m(self, text)\u001b[0m\n\u001b[1;32m     10\u001b[0m             \u001b[0mitem\u001b[0m\u001b[0;34m.\u001b[0m\u001b[0mstrip\u001b[0m\u001b[0;34m(\u001b[0m\u001b[0;34m)\u001b[0m \u001b[0;32mfor\u001b[0m \u001b[0mitem\u001b[0m \u001b[0;32min\u001b[0m \u001b[0mpreprocessed\u001b[0m \u001b[0;32mif\u001b[0m \u001b[0mitem\u001b[0m\u001b[0;34m.\u001b[0m\u001b[0mstrip\u001b[0m\u001b[0;34m(\u001b[0m\u001b[0;34m)\u001b[0m\u001b[0;34m\u001b[0m\u001b[0;34m\u001b[0m\u001b[0m\n\u001b[1;32m     11\u001b[0m         ]\n\u001b[0;32m---> 12\u001b[0;31m         \u001b[0mids\u001b[0m \u001b[0;34m=\u001b[0m \u001b[0;34m[\u001b[0m\u001b[0mself\u001b[0m\u001b[0;34m.\u001b[0m\u001b[0mstr_to_int\u001b[0m\u001b[0;34m[\u001b[0m\u001b[0ms\u001b[0m\u001b[0;34m]\u001b[0m \u001b[0;32mfor\u001b[0m \u001b[0ms\u001b[0m \u001b[0;32min\u001b[0m \u001b[0mpreprocessed\u001b[0m\u001b[0;34m]\u001b[0m\u001b[0;34m\u001b[0m\u001b[0;34m\u001b[0m\u001b[0m\n\u001b[0m\u001b[1;32m     13\u001b[0m         \u001b[0;32mreturn\u001b[0m \u001b[0mids\u001b[0m\u001b[0;34m\u001b[0m\u001b[0;34m\u001b[0m\u001b[0m\n\u001b[1;32m     14\u001b[0m \u001b[0;34m\u001b[0m\u001b[0m\n",
            "\u001b[0;32m/tmp/ipython-input-13-2118097954.py\u001b[0m in \u001b[0;36m<listcomp>\u001b[0;34m(.0)\u001b[0m\n\u001b[1;32m     10\u001b[0m             \u001b[0mitem\u001b[0m\u001b[0;34m.\u001b[0m\u001b[0mstrip\u001b[0m\u001b[0;34m(\u001b[0m\u001b[0;34m)\u001b[0m \u001b[0;32mfor\u001b[0m \u001b[0mitem\u001b[0m \u001b[0;32min\u001b[0m \u001b[0mpreprocessed\u001b[0m \u001b[0;32mif\u001b[0m \u001b[0mitem\u001b[0m\u001b[0;34m.\u001b[0m\u001b[0mstrip\u001b[0m\u001b[0;34m(\u001b[0m\u001b[0;34m)\u001b[0m\u001b[0;34m\u001b[0m\u001b[0;34m\u001b[0m\u001b[0m\n\u001b[1;32m     11\u001b[0m         ]\n\u001b[0;32m---> 12\u001b[0;31m         \u001b[0mids\u001b[0m \u001b[0;34m=\u001b[0m \u001b[0;34m[\u001b[0m\u001b[0mself\u001b[0m\u001b[0;34m.\u001b[0m\u001b[0mstr_to_int\u001b[0m\u001b[0;34m[\u001b[0m\u001b[0ms\u001b[0m\u001b[0;34m]\u001b[0m \u001b[0;32mfor\u001b[0m \u001b[0ms\u001b[0m \u001b[0;32min\u001b[0m \u001b[0mpreprocessed\u001b[0m\u001b[0;34m]\u001b[0m\u001b[0;34m\u001b[0m\u001b[0;34m\u001b[0m\u001b[0m\n\u001b[0m\u001b[1;32m     13\u001b[0m         \u001b[0;32mreturn\u001b[0m \u001b[0mids\u001b[0m\u001b[0;34m\u001b[0m\u001b[0;34m\u001b[0m\u001b[0m\n\u001b[1;32m     14\u001b[0m \u001b[0;34m\u001b[0m\u001b[0m\n",
            "\u001b[0;31mKeyError\u001b[0m: 'Hello'"
          ]
        }
      ],
      "source": [
        "tokenizer = SimpleTokenizerV1(vocab)\n",
        "\n",
        "text = \"Hello, do you like tea. Is this-- a test?\"\n",
        "\n",
        "tokenizer.encode(text)"
      ]
    },
    {
      "cell_type": "markdown",
      "id": "dc53ee0c-fe2b-4cd8-a946-5471f7651acf",
      "metadata": {
        "id": "dc53ee0c-fe2b-4cd8-a946-5471f7651acf"
      },
      "source": [
        "*italicized text*- The above produces an error because the word \"Hello\" is not contained in the vocabulary\n",
        "- To deal with such cases, we can add special tokens like `\"<|unk|>\"` to the vocabulary to represent unknown words\n",
        "- Since we are already extending the vocabulary, let's add another token called `\"<|endoftext|>\"` which is used in GPT-2 training to denote the end of a text (and it's also used between concatenated text, like if our training datasets consists of multiple articles, books, etc.)"
      ]
    },
    {
      "cell_type": "code",
      "execution_count": 18,
      "id": "ce9df29c-6c5b-43f1-8c1a-c7f7b79db78f",
      "metadata": {
        "id": "ce9df29c-6c5b-43f1-8c1a-c7f7b79db78f"
      },
      "outputs": [],
      "source": [
        "all_tokens = sorted(list(set(preprocessed)))\n",
        "all_tokens.extend([\"<|endoftext|>\", \"<|unk|>\"])\n",
        "\n",
        "vocab = {token:integer for integer,token in enumerate(all_tokens)}"
      ]
    },
    {
      "cell_type": "code",
      "execution_count": 19,
      "id": "57c3143b-e860-4d3b-a22a-de22b547a6a9",
      "metadata": {
        "colab": {
          "base_uri": "https://localhost:8080/"
        },
        "id": "57c3143b-e860-4d3b-a22a-de22b547a6a9",
        "outputId": "97470091-7072-4dcf-be6c-61205faa8dbf"
      },
      "outputs": [
        {
          "output_type": "execute_result",
          "data": {
            "text/plain": [
              "1132"
            ]
          },
          "metadata": {},
          "execution_count": 19
        }
      ],
      "source": [
        "len(vocab.items())"
      ]
    },
    {
      "cell_type": "code",
      "execution_count": 20,
      "id": "50e51bb1-ae05-4aa8-a9ff-455b65ed1959",
      "metadata": {
        "colab": {
          "base_uri": "https://localhost:8080/"
        },
        "id": "50e51bb1-ae05-4aa8-a9ff-455b65ed1959",
        "outputId": "e619abad-9d42-450f-852f-32643a32b31a"
      },
      "outputs": [
        {
          "output_type": "stream",
          "name": "stdout",
          "text": [
            "('younger', 1127)\n",
            "('your', 1128)\n",
            "('yourself', 1129)\n",
            "('<|endoftext|>', 1130)\n",
            "('<|unk|>', 1131)\n"
          ]
        }
      ],
      "source": [
        "for i, item in enumerate(list(vocab.items())[-5:]):\n",
        "    print(item)"
      ]
    },
    {
      "cell_type": "markdown",
      "id": "a1daa2b0-6e75-412b-ab53-1f6fb7b4d453",
      "metadata": {
        "id": "a1daa2b0-6e75-412b-ab53-1f6fb7b4d453"
      },
      "source": [
        "- We also need to adjust the tokenizer accordingly so that it knows when and how to use the new `<unk>` token"
      ]
    },
    {
      "cell_type": "code",
      "execution_count": 21,
      "id": "948861c5-3f30-4712-a234-725f20d26f68",
      "metadata": {
        "id": "948861c5-3f30-4712-a234-725f20d26f68"
      },
      "outputs": [],
      "source": [
        "class SimpleTokenizerV2:\n",
        "    def __init__(self, vocab):\n",
        "        self.str_to_int = vocab\n",
        "        self.int_to_str = { i:s for s,i in vocab.items()}\n",
        "\n",
        "    def encode(self, text):\n",
        "        preprocessed = re.split(r'([,.:;?_!\"()\\']|--|\\s)', text)\n",
        "        preprocessed = [item.strip() for item in preprocessed if item.strip()]\n",
        "        preprocessed = [\n",
        "            item if item in self.str_to_int\n",
        "            else \"<|unk|>\" for item in preprocessed\n",
        "        ]\n",
        "\n",
        "        ids = [self.str_to_int[s] for s in preprocessed]\n",
        "        return ids\n",
        "\n",
        "    def decode(self, ids):\n",
        "        text = \" \".join([self.int_to_str[i] for i in ids])\n",
        "        # Replace spaces before the specified punctuations\n",
        "        text = re.sub(r'\\s+([,.:;?!\"()\\'])', r'\\1', text)\n",
        "        return text"
      ]
    },
    {
      "cell_type": "markdown",
      "id": "aa728dd1-9d35-4ac7-938f-d411d73083f6",
      "metadata": {
        "id": "aa728dd1-9d35-4ac7-938f-d411d73083f6"
      },
      "source": [
        "Let's try to tokenize text with the modified tokenizer:"
      ]
    },
    {
      "cell_type": "code",
      "execution_count": 22,
      "id": "4133c502-18ac-4412-9f43-01caf4efa3dc",
      "metadata": {
        "colab": {
          "base_uri": "https://localhost:8080/"
        },
        "id": "4133c502-18ac-4412-9f43-01caf4efa3dc",
        "outputId": "e7bb7688-9bb3-48d8-f3ba-ac3115a87bb9"
      },
      "outputs": [
        {
          "output_type": "stream",
          "name": "stdout",
          "text": [
            "Hello, do you like tea? <|endoftext|> In the sunlit terraces of the palace.\n"
          ]
        }
      ],
      "source": [
        "tokenizer = SimpleTokenizerV2(vocab)\n",
        "\n",
        "text1 = \"Hello, do you like tea?\"\n",
        "text2 = \"In the sunlit terraces of the palace.\"\n",
        "\n",
        "text = \" <|endoftext|> \".join((text1, text2))\n",
        "\n",
        "print(text)"
      ]
    },
    {
      "cell_type": "code",
      "execution_count": 23,
      "id": "7ed395fe-dc1b-4ed2-b85b-457cc35aab60",
      "metadata": {
        "colab": {
          "base_uri": "https://localhost:8080/"
        },
        "id": "7ed395fe-dc1b-4ed2-b85b-457cc35aab60",
        "outputId": "4c3dfec3-afbc-4d1d-f952-d4fe68d20cea"
      },
      "outputs": [
        {
          "output_type": "execute_result",
          "data": {
            "text/plain": [
              "[1131, 5, 355, 1126, 628, 975, 10, 1130, 55, 988, 956, 984, 722, 988, 1131, 7]"
            ]
          },
          "metadata": {},
          "execution_count": 23
        }
      ],
      "source": [
        "tokenizer.encode(text)"
      ]
    },
    {
      "cell_type": "code",
      "execution_count": 24,
      "id": "059367f9-7a60-4c0d-8a00-7c4c766d0ebc",
      "metadata": {
        "colab": {
          "base_uri": "https://localhost:8080/",
          "height": 35
        },
        "id": "059367f9-7a60-4c0d-8a00-7c4c766d0ebc",
        "outputId": "cdcf13fd-c898-4343-b84c-ee0307122920"
      },
      "outputs": [
        {
          "output_type": "execute_result",
          "data": {
            "text/plain": [
              "'<|unk|>, do you like tea? <|endoftext|> In the sunlit terraces of the <|unk|>.'"
            ],
            "application/vnd.google.colaboratory.intrinsic+json": {
              "type": "string"
            }
          },
          "metadata": {},
          "execution_count": 24
        }
      ],
      "source": [
        "tokenizer.decode(tokenizer.encode(text))"
      ]
    },
    {
      "cell_type": "markdown",
      "id": "5c4ba34b-170f-4e71-939b-77aabb776f14",
      "metadata": {
        "id": "5c4ba34b-170f-4e71-939b-77aabb776f14"
      },
      "source": [
        "## 2.5 BytePair encoding"
      ]
    },
    {
      "cell_type": "markdown",
      "id": "2309494c-79cf-4a2d-bc28-a94d602f050e",
      "metadata": {
        "id": "2309494c-79cf-4a2d-bc28-a94d602f050e"
      },
      "source": [
        "- GPT-2 used BytePair encoding (BPE) as its tokenizer\n",
        "- it allows the model to break down words that aren't in its predefined vocabulary into smaller subword units or even individual characters, enabling it to handle out-of-vocabulary words\n",
        "- For instance, if GPT-2's vocabulary doesn't have the word \"unfamiliarword,\" it might tokenize it as [\"unfam\", \"iliar\", \"word\"] or some other subword breakdown, depending on its trained BPE merges\n",
        "- The original BPE tokenizer can be found here: [https://github.com/openai/gpt-2/blob/master/src/encoder.py](https://github.com/openai/gpt-2/blob/master/src/encoder.py)\n",
        "- In this chapter, we are using the BPE tokenizer from OpenAI's open-source [tiktoken](https://github.com/openai/tiktoken) library, which implements its core algorithms in Rust to improve computational performance\n",
        "- I created a notebook in the [./bytepair_encoder](../02_bonus_bytepair-encoder) that compares these two implementations side-by-side (tiktoken was about 5x faster on the sample text)"
      ]
    },
    {
      "cell_type": "code",
      "execution_count": 25,
      "id": "ede1d41f-934b-4bf4-8184-54394a257a94",
      "metadata": {
        "id": "ede1d41f-934b-4bf4-8184-54394a257a94"
      },
      "outputs": [],
      "source": [
        "# pip install tiktoken"
      ]
    },
    {
      "cell_type": "code",
      "execution_count": 26,
      "id": "48967a77-7d17-42bf-9e92-fc619d63a59e",
      "metadata": {
        "colab": {
          "base_uri": "https://localhost:8080/"
        },
        "id": "48967a77-7d17-42bf-9e92-fc619d63a59e",
        "outputId": "01abcdf4-b487-4438-dfff-85cfcadc2053"
      },
      "outputs": [
        {
          "output_type": "stream",
          "name": "stdout",
          "text": [
            "tiktoken version: 0.9.0\n"
          ]
        }
      ],
      "source": [
        "import importlib\n",
        "import tiktoken\n",
        "\n",
        "print(\"tiktoken version:\", importlib.metadata.version(\"tiktoken\"))"
      ]
    },
    {
      "cell_type": "code",
      "execution_count": 27,
      "id": "6ad3312f-a5f7-4efc-9d7d-8ea09d7b5128",
      "metadata": {
        "id": "6ad3312f-a5f7-4efc-9d7d-8ea09d7b5128"
      },
      "outputs": [],
      "source": [
        "tokenizer = tiktoken.get_encoding(\"gpt2\")"
      ]
    },
    {
      "cell_type": "code",
      "execution_count": 28,
      "id": "5ff2cd85-7cfb-4325-b390-219938589428",
      "metadata": {
        "colab": {
          "base_uri": "https://localhost:8080/"
        },
        "id": "5ff2cd85-7cfb-4325-b390-219938589428",
        "outputId": "87f7cce7-435a-43df-8027-742cfb0b3031"
      },
      "outputs": [
        {
          "output_type": "stream",
          "name": "stdout",
          "text": [
            "[15496, 11, 466, 345, 588, 8887, 30, 220, 50256, 554, 262, 4252, 18250, 8812, 2114, 1659, 617, 34680, 27271, 13]\n"
          ]
        }
      ],
      "source": [
        "text = (\n",
        "    \"Hello, do you like tea? <|endoftext|> In the sunlit terraces\"\n",
        "     \"of someunknownPlace.\"\n",
        ")\n",
        "\n",
        "integers = tokenizer.encode(text, allowed_special={\"<|endoftext|>\"})\n",
        "\n",
        "print(integers)"
      ]
    },
    {
      "cell_type": "code",
      "execution_count": 29,
      "id": "d26a48bb-f82e-41a8-a955-a1c9cf9d50ab",
      "metadata": {
        "colab": {
          "base_uri": "https://localhost:8080/"
        },
        "id": "d26a48bb-f82e-41a8-a955-a1c9cf9d50ab",
        "outputId": "923539c9-4001-4994-825d-7307ee5c968f"
      },
      "outputs": [
        {
          "output_type": "stream",
          "name": "stdout",
          "text": [
            "Hello, do you like tea? <|endoftext|> In the sunlit terracesof someunknownPlace.\n"
          ]
        }
      ],
      "source": [
        "strings = tokenizer.decode(integers)\n",
        "\n",
        "print(strings)"
      ]
    },
    {
      "cell_type": "markdown",
      "id": "e8c2e7b4-6a22-42aa-8e4d-901f06378d4a",
      "metadata": {
        "id": "e8c2e7b4-6a22-42aa-8e4d-901f06378d4a"
      },
      "source": [
        "- BPE tokenizers break down unknown words into subwords and individual characters:"
      ]
    },
    {
      "cell_type": "markdown",
      "id": "c082d41f-33d7-4827-97d8-993d5a84bb3c",
      "metadata": {
        "id": "c082d41f-33d7-4827-97d8-993d5a84bb3c"
      },
      "source": [
        "<img src=\"https://sebastianraschka.com/images/LLMs-from-scratch-images/ch02_compressed/11.webp\" width=\"300px\">"
      ]
    },
    {
      "cell_type": "markdown",
      "id": "abbd7c0d-70f8-4386-a114-907e96c950b0",
      "metadata": {
        "id": "abbd7c0d-70f8-4386-a114-907e96c950b0"
      },
      "source": [
        "## 2.6 Data sampling with a sliding window"
      ]
    },
    {
      "cell_type": "markdown",
      "id": "509d9826-6384-462e-aa8a-a7c73cd6aad0",
      "metadata": {
        "id": "509d9826-6384-462e-aa8a-a7c73cd6aad0"
      },
      "source": [
        "- We train LLMs to generate one word at a time, so we want to prepare the training data accordingly where the next word in a sequence represents the target to predict:"
      ]
    },
    {
      "cell_type": "markdown",
      "id": "39fb44f4-0c43-4a6a-9c2f-9cf31452354c",
      "metadata": {
        "id": "39fb44f4-0c43-4a6a-9c2f-9cf31452354c"
      },
      "source": [
        "<img src=\"https://sebastianraschka.com/images/LLMs-from-scratch-images/ch02_compressed/12.webp\" width=\"400px\">"
      ]
    },
    {
      "cell_type": "code",
      "execution_count": 30,
      "id": "848d5ade-fd1f-46c3-9e31-1426e315c71b",
      "metadata": {
        "colab": {
          "base_uri": "https://localhost:8080/"
        },
        "id": "848d5ade-fd1f-46c3-9e31-1426e315c71b",
        "outputId": "8b2cc3a6-4fd5-4fb3-ae18-4a620f58f9b5"
      },
      "outputs": [
        {
          "output_type": "stream",
          "name": "stdout",
          "text": [
            "5145\n"
          ]
        }
      ],
      "source": [
        "with open(\"the-verdict.txt\", \"r\", encoding=\"utf-8\") as f:\n",
        "    raw_text = f.read()\n",
        "\n",
        "enc_text = tokenizer.encode(raw_text)\n",
        "print(len(enc_text))"
      ]
    },
    {
      "cell_type": "markdown",
      "id": "cebd0657-5543-43ca-8011-2ae6bd0a5810",
      "metadata": {
        "id": "cebd0657-5543-43ca-8011-2ae6bd0a5810"
      },
      "source": [
        "- For each text chunk, we want the inputs and targets\n",
        "- Since we want the model to predict the next word, the targets are the inputs shifted by one position to the right"
      ]
    },
    {
      "cell_type": "code",
      "execution_count": 31,
      "id": "e84424a7-646d-45b6-99e3-80d15fb761f2",
      "metadata": {
        "id": "e84424a7-646d-45b6-99e3-80d15fb761f2"
      },
      "outputs": [],
      "source": [
        "enc_sample = enc_text[50:]"
      ]
    },
    {
      "cell_type": "code",
      "execution_count": 32,
      "id": "dfbff852-a92f-48c8-a46d-143a0f109f40",
      "metadata": {
        "colab": {
          "base_uri": "https://localhost:8080/"
        },
        "id": "dfbff852-a92f-48c8-a46d-143a0f109f40",
        "outputId": "5e8c162e-6bbd-427a-fcaa-2a8c5673776c"
      },
      "outputs": [
        {
          "output_type": "stream",
          "name": "stdout",
          "text": [
            "x: [290, 4920, 2241, 287]\n",
            "y:      [4920, 2241, 287, 257]\n"
          ]
        }
      ],
      "source": [
        "context_size = 4\n",
        "\n",
        "x = enc_sample[:context_size]\n",
        "y = enc_sample[1:context_size+1]\n",
        "\n",
        "print(f\"x: {x}\")\n",
        "print(f\"y:      {y}\")"
      ]
    },
    {
      "cell_type": "markdown",
      "id": "815014ef-62f7-4476-a6ad-66e20e42b7c3",
      "metadata": {
        "id": "815014ef-62f7-4476-a6ad-66e20e42b7c3"
      },
      "source": [
        "- One by one, the prediction would look like as follows:"
      ]
    },
    {
      "cell_type": "code",
      "execution_count": 33,
      "id": "d97b031e-ed55-409d-95f2-aeb38c6fe366",
      "metadata": {
        "colab": {
          "base_uri": "https://localhost:8080/"
        },
        "id": "d97b031e-ed55-409d-95f2-aeb38c6fe366",
        "outputId": "4e13f75e-91f7-45f8-bde5-961259ef627f"
      },
      "outputs": [
        {
          "output_type": "stream",
          "name": "stdout",
          "text": [
            "[290] ----> 4920\n",
            "[290, 4920] ----> 2241\n",
            "[290, 4920, 2241] ----> 287\n",
            "[290, 4920, 2241, 287] ----> 257\n"
          ]
        }
      ],
      "source": [
        "for i in range(1, context_size+1):\n",
        "    context = enc_sample[:i]\n",
        "    desired = enc_sample[i]\n",
        "\n",
        "    print(context, \"---->\", desired)"
      ]
    },
    {
      "cell_type": "code",
      "execution_count": 34,
      "id": "f57bd746-dcbf-4433-8e24-ee213a8c34a1",
      "metadata": {
        "colab": {
          "base_uri": "https://localhost:8080/"
        },
        "id": "f57bd746-dcbf-4433-8e24-ee213a8c34a1",
        "outputId": "b0588536-1ba6-45fb-f666-ebfdb459a2d4"
      },
      "outputs": [
        {
          "output_type": "stream",
          "name": "stdout",
          "text": [
            " and ---->  established\n",
            " and established ---->  himself\n",
            " and established himself ---->  in\n",
            " and established himself in ---->  a\n"
          ]
        }
      ],
      "source": [
        "for i in range(1, context_size+1):\n",
        "    context = enc_sample[:i]\n",
        "    desired = enc_sample[i]\n",
        "\n",
        "    print(tokenizer.decode(context), \"---->\", tokenizer.decode([desired]))"
      ]
    },
    {
      "cell_type": "markdown",
      "id": "210d2dd9-fc20-4927-8d3d-1466cf41aae1",
      "metadata": {
        "id": "210d2dd9-fc20-4927-8d3d-1466cf41aae1"
      },
      "source": [
        "- We will take care of the next-word prediction in a later chapter after we covered the attention mechanism\n",
        "- For now, we implement a simple data loader that iterates over the input dataset and returns the inputs and targets shifted by one"
      ]
    },
    {
      "cell_type": "markdown",
      "id": "a1a1b47a-f646-49d1-bc70-fddf2c840796",
      "metadata": {
        "id": "a1a1b47a-f646-49d1-bc70-fddf2c840796"
      },
      "source": [
        "- Install and import PyTorch (see Appendix A for installation tips)"
      ]
    },
    {
      "cell_type": "code",
      "execution_count": 35,
      "id": "e1770134-e7f3-4725-a679-e04c3be48cac",
      "metadata": {
        "colab": {
          "base_uri": "https://localhost:8080/"
        },
        "id": "e1770134-e7f3-4725-a679-e04c3be48cac",
        "outputId": "2518625f-f1e5-4d80-c66b-bc071b7c5bfb"
      },
      "outputs": [
        {
          "output_type": "stream",
          "name": "stdout",
          "text": [
            "PyTorch version: 2.6.0+cu124\n"
          ]
        }
      ],
      "source": [
        "import torch\n",
        "print(\"PyTorch version:\", torch.__version__)"
      ]
    },
    {
      "cell_type": "markdown",
      "id": "0c9a3d50-885b-49bc-b791-9f5cc8bc7b7c",
      "metadata": {
        "id": "0c9a3d50-885b-49bc-b791-9f5cc8bc7b7c"
      },
      "source": [
        "- We use a sliding window approach, changing the position by +1:\n",
        "\n",
        "<img src=\"https://sebastianraschka.com/images/LLMs-from-scratch-images/ch02_compressed/13.webp?123\" width=\"500px\">"
      ]
    },
    {
      "cell_type": "markdown",
      "id": "92ac652d-7b38-4843-9fbd-494cdc8ec12c",
      "metadata": {
        "id": "92ac652d-7b38-4843-9fbd-494cdc8ec12c"
      },
      "source": [
        "- Create dataset and dataloader that extract chunks from the input text dataset"
      ]
    },
    {
      "cell_type": "code",
      "execution_count": 36,
      "id": "74b41073-4c9f-46e2-a1bd-d38e4122b375",
      "metadata": {
        "id": "74b41073-4c9f-46e2-a1bd-d38e4122b375"
      },
      "outputs": [],
      "source": [
        "from torch.utils.data import Dataset, DataLoader\n",
        "\n",
        "\n",
        "class GPTDatasetV1(Dataset):\n",
        "    def __init__(self, txt, tokenizer, max_length, stride):\n",
        "        self.input_ids = []\n",
        "        self.target_ids = []\n",
        "\n",
        "        # Tokenize the entire text\n",
        "        token_ids = tokenizer.encode(txt, allowed_special={\"<|endoftext|>\"})\n",
        "        assert len(token_ids) > max_length, \"Number of tokenized inputs must at least be equal to max_length+1\"\n",
        "\n",
        "        # Use a sliding window to chunk the book into overlapping sequences of max_length\n",
        "        for i in range(0, len(token_ids) - max_length, stride):\n",
        "            input_chunk = token_ids[i:i + max_length]\n",
        "            target_chunk = token_ids[i + 1: i + max_length + 1]\n",
        "            self.input_ids.append(torch.tensor(input_chunk))\n",
        "            self.target_ids.append(torch.tensor(target_chunk))\n",
        "\n",
        "    def __len__(self):\n",
        "        return len(self.input_ids)\n",
        "\n",
        "    def __getitem__(self, idx):\n",
        "        return self.input_ids[idx], self.target_ids[idx]"
      ]
    },
    {
      "cell_type": "code",
      "execution_count": 37,
      "id": "5eb30ebe-97b3-43c5-9ff1-a97d621b3c4e",
      "metadata": {
        "id": "5eb30ebe-97b3-43c5-9ff1-a97d621b3c4e"
      },
      "outputs": [],
      "source": [
        "def create_dataloader_v1(txt, batch_size=4, max_length=256,\n",
        "                         stride=128, shuffle=True, drop_last=True,\n",
        "                         num_workers=0):\n",
        "\n",
        "    # Initialize the tokenizer\n",
        "    tokenizer = tiktoken.get_encoding(\"gpt2\")\n",
        "\n",
        "    # Create dataset\n",
        "    dataset = GPTDatasetV1(txt, tokenizer, max_length, stride)\n",
        "\n",
        "    # Create dataloader\n",
        "    dataloader = DataLoader(\n",
        "        dataset,\n",
        "        batch_size=batch_size,\n",
        "        shuffle=shuffle,\n",
        "        drop_last=drop_last,\n",
        "        num_workers=num_workers\n",
        "    )\n",
        "\n",
        "    return dataloader"
      ]
    },
    {
      "cell_type": "markdown",
      "id": "42dd68ef-59f7-45ff-ba44-e311c899ddcd",
      "metadata": {
        "id": "42dd68ef-59f7-45ff-ba44-e311c899ddcd"
      },
      "source": [
        "- Let's test the dataloader with a batch size of 1 for an LLM with a context size of 4:"
      ]
    },
    {
      "cell_type": "code",
      "execution_count": 38,
      "id": "df31d96c-6bfd-4564-a956-6192242d7579",
      "metadata": {
        "id": "df31d96c-6bfd-4564-a956-6192242d7579"
      },
      "outputs": [],
      "source": [
        "with open(\"the-verdict.txt\", \"r\", encoding=\"utf-8\") as f:\n",
        "    raw_text = f.read()"
      ]
    },
    {
      "cell_type": "code",
      "execution_count": 39,
      "id": "9226d00c-ad9a-4949-a6e4-9afccfc7214f",
      "metadata": {
        "colab": {
          "base_uri": "https://localhost:8080/"
        },
        "id": "9226d00c-ad9a-4949-a6e4-9afccfc7214f",
        "outputId": "3ffc9317-7de0-4ab9-b932-f79f0f1aad29"
      },
      "outputs": [
        {
          "output_type": "stream",
          "name": "stdout",
          "text": [
            "[tensor([[  40,  367, 2885, 1464]]), tensor([[ 367, 2885, 1464, 1807]])]\n"
          ]
        }
      ],
      "source": [
        "dataloader = create_dataloader_v1(\n",
        "    raw_text, batch_size=1, max_length=4, stride=1, shuffle=False\n",
        ")\n",
        "\n",
        "data_iter = iter(dataloader)\n",
        "first_batch = next(data_iter)\n",
        "print(first_batch)"
      ]
    },
    {
      "cell_type": "code",
      "execution_count": 40,
      "id": "10deb4bc-4de1-4d20-921e-4b1c7a0e1a6d",
      "metadata": {
        "colab": {
          "base_uri": "https://localhost:8080/"
        },
        "id": "10deb4bc-4de1-4d20-921e-4b1c7a0e1a6d",
        "outputId": "0049f3ef-78c6-4578-cb09-23909feb90f0"
      },
      "outputs": [
        {
          "output_type": "stream",
          "name": "stdout",
          "text": [
            "[tensor([[ 367, 2885, 1464, 1807]]), tensor([[2885, 1464, 1807, 3619]])]\n"
          ]
        }
      ],
      "source": [
        "second_batch = next(data_iter)\n",
        "print(second_batch)"
      ]
    },
    {
      "cell_type": "markdown",
      "id": "b006212f-de45-468d-bdee-5806216d1679",
      "metadata": {
        "id": "b006212f-de45-468d-bdee-5806216d1679"
      },
      "source": [
        "- An example using stride equal to the context length (here: 4) as shown below:"
      ]
    },
    {
      "cell_type": "markdown",
      "id": "9cb467e0-bdcd-4dda-b9b0-a738c5d33ac3",
      "metadata": {
        "id": "9cb467e0-bdcd-4dda-b9b0-a738c5d33ac3"
      },
      "source": [
        "<img src=\"https://sebastianraschka.com/images/LLMs-from-scratch-images/ch02_compressed/14.webp\" width=\"500px\">"
      ]
    },
    {
      "cell_type": "markdown",
      "id": "b1ae6d45-f26e-4b83-9c7b-cff55ffa7d16",
      "metadata": {
        "id": "b1ae6d45-f26e-4b83-9c7b-cff55ffa7d16"
      },
      "source": [
        "- We can also create batched outputs\n",
        "- Note that we increase the stride here so that we don't have overlaps between the batches, since more overlap could lead to increased overfitting"
      ]
    },
    {
      "cell_type": "code",
      "execution_count": 41,
      "id": "1916e7a6-f03d-4f09-91a6-d0bdbac5a58c",
      "metadata": {
        "colab": {
          "base_uri": "https://localhost:8080/"
        },
        "id": "1916e7a6-f03d-4f09-91a6-d0bdbac5a58c",
        "outputId": "b4585808-4b8e-4cc5-b486-99d427648d76"
      },
      "outputs": [
        {
          "output_type": "stream",
          "name": "stdout",
          "text": [
            "Inputs:\n",
            " tensor([[   40,   367,  2885,  1464],\n",
            "        [ 1807,  3619,   402,   271],\n",
            "        [10899,  2138,   257,  7026],\n",
            "        [15632,   438,  2016,   257],\n",
            "        [  922,  5891,  1576,   438],\n",
            "        [  568,   340,   373,   645],\n",
            "        [ 1049,  5975,   284,   502],\n",
            "        [  284,  3285,   326,    11]])\n",
            "\n",
            "Targets:\n",
            " tensor([[  367,  2885,  1464,  1807],\n",
            "        [ 3619,   402,   271, 10899],\n",
            "        [ 2138,   257,  7026, 15632],\n",
            "        [  438,  2016,   257,   922],\n",
            "        [ 5891,  1576,   438,   568],\n",
            "        [  340,   373,   645,  1049],\n",
            "        [ 5975,   284,   502,   284],\n",
            "        [ 3285,   326,    11,   287]])\n"
          ]
        }
      ],
      "source": [
        "dataloader = create_dataloader_v1(raw_text, batch_size=8, max_length=4, stride=4, shuffle=False)\n",
        "\n",
        "data_iter = iter(dataloader)\n",
        "inputs, targets = next(data_iter)\n",
        "print(\"Inputs:\\n\", inputs)\n",
        "print(\"\\nTargets:\\n\", targets)"
      ]
    },
    {
      "cell_type": "markdown",
      "id": "2cd2fcda-2fda-4aa8-8bc8-de1e496f9db1",
      "metadata": {
        "id": "2cd2fcda-2fda-4aa8-8bc8-de1e496f9db1"
      },
      "source": [
        "## 2.7 Creating token embeddings"
      ]
    },
    {
      "cell_type": "markdown",
      "id": "1a301068-6ab2-44ff-a915-1ba11688274f",
      "metadata": {
        "id": "1a301068-6ab2-44ff-a915-1ba11688274f"
      },
      "source": [
        "- The data is already almost ready for an LLM\n",
        "- But lastly let us embed the tokens in a continuous vector representation using an embedding layer\n",
        "- Usually, these embedding layers are part of the LLM itself and are updated (trained) during model training"
      ]
    },
    {
      "cell_type": "markdown",
      "id": "e85089aa-8671-4e5f-a2b3-ef252004ee4c",
      "metadata": {
        "id": "e85089aa-8671-4e5f-a2b3-ef252004ee4c"
      },
      "source": [
        "<img src=\"https://sebastianraschka.com/images/LLMs-from-scratch-images/ch02_compressed/15.webp\" width=\"400px\">"
      ]
    },
    {
      "cell_type": "markdown",
      "id": "44e014ca-1fc5-4b90-b6fa-c2097bb92c0b",
      "metadata": {
        "id": "44e014ca-1fc5-4b90-b6fa-c2097bb92c0b"
      },
      "source": [
        "- Suppose we have the following four input examples with input ids 2, 3, 5, and 1 (after tokenization):"
      ]
    },
    {
      "cell_type": "code",
      "execution_count": 42,
      "id": "15a6304c-9474-4470-b85d-3991a49fa653",
      "metadata": {
        "id": "15a6304c-9474-4470-b85d-3991a49fa653"
      },
      "outputs": [],
      "source": [
        "input_ids = torch.tensor([2, 3, 5, 1])"
      ]
    },
    {
      "cell_type": "markdown",
      "id": "14da6344-2c71-4837-858d-dd120005ba05",
      "metadata": {
        "id": "14da6344-2c71-4837-858d-dd120005ba05"
      },
      "source": [
        "- For the sake of simplicity, suppose we have a small vocabulary of only 6 words and we want to create embeddings of size 3:"
      ]
    },
    {
      "cell_type": "code",
      "execution_count": 43,
      "id": "93cb2cee-9aa6-4bb8-8977-c65661d16eda",
      "metadata": {
        "id": "93cb2cee-9aa6-4bb8-8977-c65661d16eda"
      },
      "outputs": [],
      "source": [
        "vocab_size = 6\n",
        "output_dim = 3\n",
        "\n",
        "torch.manual_seed(123)\n",
        "embedding_layer = torch.nn.Embedding(vocab_size, output_dim)"
      ]
    },
    {
      "cell_type": "markdown",
      "id": "4ff241f6-78eb-4e4a-a55f-5b2b6196d5b0",
      "metadata": {
        "id": "4ff241f6-78eb-4e4a-a55f-5b2b6196d5b0"
      },
      "source": [
        "- This would result in a 6x3 weight matrix:"
      ]
    },
    {
      "cell_type": "code",
      "execution_count": 44,
      "id": "a686eb61-e737-4351-8f1c-222913d47468",
      "metadata": {
        "colab": {
          "base_uri": "https://localhost:8080/"
        },
        "id": "a686eb61-e737-4351-8f1c-222913d47468",
        "outputId": "a56196c0-b22e-4ed4-cd00-5779375f99f3"
      },
      "outputs": [
        {
          "output_type": "stream",
          "name": "stdout",
          "text": [
            "Parameter containing:\n",
            "tensor([[ 0.3374, -0.1778, -0.1690],\n",
            "        [ 0.9178,  1.5810,  1.3010],\n",
            "        [ 1.2753, -0.2010, -0.1606],\n",
            "        [-0.4015,  0.9666, -1.1481],\n",
            "        [-1.1589,  0.3255, -0.6315],\n",
            "        [-2.8400, -0.7849, -1.4096]], requires_grad=True)\n"
          ]
        }
      ],
      "source": [
        "print(embedding_layer.weight)"
      ]
    },
    {
      "cell_type": "markdown",
      "id": "26fcf4f5-0801-4eb4-bb90-acce87935ac7",
      "metadata": {
        "id": "26fcf4f5-0801-4eb4-bb90-acce87935ac7"
      },
      "source": [
        "- For those who are familiar with one-hot encoding, the embedding layer approach above is essentially just a more efficient way of implementing one-hot encoding followed by matrix multiplication in a fully-connected layer, which is described in the supplementary code in [./embedding_vs_matmul](../03_bonus_embedding-vs-matmul)\n",
        "- Because the embedding layer is just a more efficient implementation that is equivalent to the one-hot encoding and matrix-multiplication approach it can be seen as a neural network layer that can be optimized via backpropagation"
      ]
    },
    {
      "cell_type": "markdown",
      "id": "4b0d58c3-83c0-4205-aca2-9c48b19fd4a7",
      "metadata": {
        "id": "4b0d58c3-83c0-4205-aca2-9c48b19fd4a7"
      },
      "source": [
        "- To convert a token with id 3 into a 3-dimensional vector, we do the following:"
      ]
    },
    {
      "cell_type": "code",
      "execution_count": 45,
      "id": "e43600ba-f287-4746-8ddf-d0f71a9023ca",
      "metadata": {
        "colab": {
          "base_uri": "https://localhost:8080/"
        },
        "id": "e43600ba-f287-4746-8ddf-d0f71a9023ca",
        "outputId": "94a7e85a-18a8-4bc1-e73e-938dcec2dec6"
      },
      "outputs": [
        {
          "output_type": "stream",
          "name": "stdout",
          "text": [
            "tensor([[-0.4015,  0.9666, -1.1481]], grad_fn=<EmbeddingBackward0>)\n"
          ]
        }
      ],
      "source": [
        "print(embedding_layer(torch.tensor([3])))"
      ]
    },
    {
      "cell_type": "markdown",
      "id": "a7bbf625-4f36-491d-87b4-3969efb784b0",
      "metadata": {
        "id": "a7bbf625-4f36-491d-87b4-3969efb784b0"
      },
      "source": [
        "- Note that the above is the 4th row in the `embedding_layer` weight matrix\n",
        "- To embed all four `input_ids` values above, we do"
      ]
    },
    {
      "cell_type": "code",
      "execution_count": 46,
      "id": "50280ead-0363-44c8-8c35-bb885d92c8b7",
      "metadata": {
        "colab": {
          "base_uri": "https://localhost:8080/"
        },
        "id": "50280ead-0363-44c8-8c35-bb885d92c8b7",
        "outputId": "b30cf579-64b5-43a5-99f8-1f502e72754a"
      },
      "outputs": [
        {
          "output_type": "stream",
          "name": "stdout",
          "text": [
            "tensor([[ 1.2753, -0.2010, -0.1606],\n",
            "        [-0.4015,  0.9666, -1.1481],\n",
            "        [-2.8400, -0.7849, -1.4096],\n",
            "        [ 0.9178,  1.5810,  1.3010]], grad_fn=<EmbeddingBackward0>)\n"
          ]
        }
      ],
      "source": [
        "print(embedding_layer(input_ids))"
      ]
    },
    {
      "cell_type": "markdown",
      "id": "be97ced4-bd13-42b7-866a-4d699a17e155",
      "metadata": {
        "id": "be97ced4-bd13-42b7-866a-4d699a17e155"
      },
      "source": [
        "- An embedding layer is essentially a look-up operation:"
      ]
    },
    {
      "cell_type": "markdown",
      "id": "f33c2741-bf1b-4c60-b7fd-61409d556646",
      "metadata": {
        "id": "f33c2741-bf1b-4c60-b7fd-61409d556646"
      },
      "source": [
        "<img src=\"https://sebastianraschka.com/images/LLMs-from-scratch-images/ch02_compressed/16.webp?123\" width=\"500px\">"
      ]
    },
    {
      "cell_type": "markdown",
      "id": "08218d9f-aa1a-4afb-a105-72ff96a54e73",
      "metadata": {
        "id": "08218d9f-aa1a-4afb-a105-72ff96a54e73"
      },
      "source": [
        "- **You may be interested in the bonus content comparing embedding layers with regular linear layers: [../03_bonus_embedding-vs-matmul](../03_bonus_embedding-vs-matmul)**"
      ]
    },
    {
      "cell_type": "markdown",
      "id": "c393d270-b950-4bc8-99ea-97d74f2ea0f6",
      "metadata": {
        "id": "c393d270-b950-4bc8-99ea-97d74f2ea0f6"
      },
      "source": [
        "## 2.8 Encoding word positions"
      ]
    },
    {
      "cell_type": "markdown",
      "id": "24940068-1099-4698-bdc0-e798515e2902",
      "metadata": {
        "id": "24940068-1099-4698-bdc0-e798515e2902"
      },
      "source": [
        "- Embedding layer convert IDs into identical vector representations regardless of where they are located in the input sequence:"
      ]
    },
    {
      "cell_type": "markdown",
      "id": "9e0b14a2-f3f3-490e-b513-f262dbcf94fa",
      "metadata": {
        "id": "9e0b14a2-f3f3-490e-b513-f262dbcf94fa"
      },
      "source": [
        "<img src=\"https://sebastianraschka.com/images/LLMs-from-scratch-images/ch02_compressed/17.webp\" width=\"400px\">"
      ]
    },
    {
      "cell_type": "markdown",
      "id": "92a7d7fe-38a5-46e6-8db6-b688887b0430",
      "metadata": {
        "id": "92a7d7fe-38a5-46e6-8db6-b688887b0430"
      },
      "source": [
        "- Positional embeddings are combined with the token embedding vector to form the input embeddings for a large language model:"
      ]
    },
    {
      "cell_type": "markdown",
      "id": "48de37db-d54d-45c4-ab3e-88c0783ad2e4",
      "metadata": {
        "id": "48de37db-d54d-45c4-ab3e-88c0783ad2e4"
      },
      "source": [
        "<img src=\"https://sebastianraschka.com/images/LLMs-from-scratch-images/ch02_compressed/18.webp\" width=\"500px\">"
      ]
    },
    {
      "cell_type": "markdown",
      "id": "7f187f87-c1f8-4c2e-8050-350bbb972f55",
      "metadata": {
        "id": "7f187f87-c1f8-4c2e-8050-350bbb972f55"
      },
      "source": [
        "- The BytePair encoder has a vocabulary size of 50,257:\n",
        "- Suppose we want to encode the input tokens into a 256-dimensional vector representation:"
      ]
    },
    {
      "cell_type": "code",
      "execution_count": 47,
      "id": "0b9e344d-03a6-4f2c-b723-67b6a20c5041",
      "metadata": {
        "id": "0b9e344d-03a6-4f2c-b723-67b6a20c5041"
      },
      "outputs": [],
      "source": [
        "vocab_size = 50257\n",
        "output_dim = 256\n",
        "\n",
        "token_embedding_layer = torch.nn.Embedding(vocab_size, output_dim)"
      ]
    },
    {
      "cell_type": "markdown",
      "id": "a2654722-24e4-4b0d-a43c-436a461eb70b",
      "metadata": {
        "id": "a2654722-24e4-4b0d-a43c-436a461eb70b"
      },
      "source": [
        "- If we sample data from the dataloader, we embed the tokens in each batch into a 256-dimensional vector\n",
        "- If we have a batch size of 8 with 4 tokens each, this results in a 8 x 4 x 256 tensor:"
      ]
    },
    {
      "cell_type": "code",
      "execution_count": 48,
      "id": "ad56a263-3d2e-4d91-98bf-d0b68d3c7fc3",
      "metadata": {
        "id": "ad56a263-3d2e-4d91-98bf-d0b68d3c7fc3"
      },
      "outputs": [],
      "source": [
        "max_length = 4\n",
        "dataloader = create_dataloader_v1(\n",
        "    raw_text, batch_size=8, max_length=max_length,\n",
        "    stride=max_length, shuffle=False\n",
        ")\n",
        "data_iter = iter(dataloader)\n",
        "inputs, targets = next(data_iter)"
      ]
    },
    {
      "cell_type": "code",
      "execution_count": 49,
      "id": "84416b60-3707-4370-bcbc-da0b62f2b64d",
      "metadata": {
        "colab": {
          "base_uri": "https://localhost:8080/"
        },
        "id": "84416b60-3707-4370-bcbc-da0b62f2b64d",
        "outputId": "191778a2-7537-4d89-92e5-8818c67e10c4"
      },
      "outputs": [
        {
          "output_type": "stream",
          "name": "stdout",
          "text": [
            "Token IDs:\n",
            " tensor([[   40,   367,  2885,  1464],\n",
            "        [ 1807,  3619,   402,   271],\n",
            "        [10899,  2138,   257,  7026],\n",
            "        [15632,   438,  2016,   257],\n",
            "        [  922,  5891,  1576,   438],\n",
            "        [  568,   340,   373,   645],\n",
            "        [ 1049,  5975,   284,   502],\n",
            "        [  284,  3285,   326,    11]])\n",
            "\n",
            "Inputs shape:\n",
            " torch.Size([8, 4])\n"
          ]
        }
      ],
      "source": [
        "print(\"Token IDs:\\n\", inputs)\n",
        "print(\"\\nInputs shape:\\n\", inputs.shape)"
      ]
    },
    {
      "cell_type": "code",
      "execution_count": 50,
      "id": "7766ec38-30d0-4128-8c31-f49f063c43d1",
      "metadata": {
        "colab": {
          "base_uri": "https://localhost:8080/"
        },
        "id": "7766ec38-30d0-4128-8c31-f49f063c43d1",
        "outputId": "157cc990-dd4e-4c7f-bea5-bded92db63e5"
      },
      "outputs": [
        {
          "output_type": "stream",
          "name": "stdout",
          "text": [
            "torch.Size([8, 4, 256])\n"
          ]
        }
      ],
      "source": [
        "token_embeddings = token_embedding_layer(inputs)\n",
        "print(token_embeddings.shape)\n",
        "\n",
        "# uncomment & execute the following line to see how the embeddings look like\n",
        "# print(token_embeddings)"
      ]
    },
    {
      "cell_type": "markdown",
      "id": "fe2ae164-6f19-4e32-b9e5-76950fcf1c9f",
      "metadata": {
        "id": "fe2ae164-6f19-4e32-b9e5-76950fcf1c9f"
      },
      "source": [
        "- GPT-2 uses absolute position embeddings, so we just create another embedding layer:"
      ]
    },
    {
      "cell_type": "code",
      "execution_count": 51,
      "id": "cc048e20-7ac8-417e-81f5-8fe6f9a4fe07",
      "metadata": {
        "id": "cc048e20-7ac8-417e-81f5-8fe6f9a4fe07"
      },
      "outputs": [],
      "source": [
        "context_length = max_length\n",
        "pos_embedding_layer = torch.nn.Embedding(context_length, output_dim)\n",
        "\n",
        "# uncomment & execute the following line to see how the embedding layer weights look like\n",
        "# print(pos_embedding_layer.weight)"
      ]
    },
    {
      "cell_type": "code",
      "execution_count": 52,
      "id": "c369a1e7-d566-4b53-b398-d6adafb44105",
      "metadata": {
        "colab": {
          "base_uri": "https://localhost:8080/"
        },
        "id": "c369a1e7-d566-4b53-b398-d6adafb44105",
        "outputId": "e330cfe6-18fe-41a2-86e9-85458cf99aa8"
      },
      "outputs": [
        {
          "output_type": "stream",
          "name": "stdout",
          "text": [
            "torch.Size([4, 256])\n"
          ]
        }
      ],
      "source": [
        "pos_embeddings = pos_embedding_layer(torch.arange(max_length))\n",
        "print(pos_embeddings.shape)\n",
        "\n",
        "# uncomment & execute the following line to see how the embeddings look like\n",
        "# print(pos_embeddings)"
      ]
    },
    {
      "cell_type": "markdown",
      "id": "870e9d9f-2935-461a-9518-6d1386b976d6",
      "metadata": {
        "id": "870e9d9f-2935-461a-9518-6d1386b976d6"
      },
      "source": [
        "- To create the input embeddings used in an LLM, we simply add the token and the positional embeddings:"
      ]
    },
    {
      "cell_type": "code",
      "execution_count": 53,
      "id": "b22fab89-526e-43c8-9035-5b7018e34288",
      "metadata": {
        "colab": {
          "base_uri": "https://localhost:8080/"
        },
        "id": "b22fab89-526e-43c8-9035-5b7018e34288",
        "outputId": "9aea94dd-27c4-4ae6-acba-39f16e888f72"
      },
      "outputs": [
        {
          "output_type": "stream",
          "name": "stdout",
          "text": [
            "torch.Size([8, 4, 256])\n"
          ]
        }
      ],
      "source": [
        "input_embeddings = token_embeddings + pos_embeddings\n",
        "print(input_embeddings.shape)\n",
        "\n",
        "# uncomment & execute the following line to see how the embeddings look like\n",
        "# print(input_embeddings)"
      ]
    },
    {
      "cell_type": "markdown",
      "id": "1fbda581-6f9b-476f-8ea7-d244e6a4eaec",
      "metadata": {
        "id": "1fbda581-6f9b-476f-8ea7-d244e6a4eaec"
      },
      "source": [
        "- In the initial phase of the input processing workflow, the input text is segmented into separate tokens\n",
        "- Following this segmentation, these tokens are transformed into token IDs based on a predefined vocabulary:"
      ]
    },
    {
      "cell_type": "markdown",
      "id": "d1bb0f7e-460d-44db-b366-096adcd84fff",
      "metadata": {
        "id": "d1bb0f7e-460d-44db-b366-096adcd84fff"
      },
      "source": [
        "<img src=\"https://sebastianraschka.com/images/LLMs-from-scratch-images/ch02_compressed/19.webp\" width=\"400px\">"
      ]
    },
    {
      "cell_type": "markdown",
      "id": "63230f2e-258f-4497-9e2e-8deee4530364",
      "metadata": {
        "id": "63230f2e-258f-4497-9e2e-8deee4530364"
      },
      "source": [
        "# Summary and takeaways"
      ]
    },
    {
      "cell_type": "markdown",
      "id": "8b3293a6-45a5-47cd-aa00-b23e3ca0a73f",
      "metadata": {
        "id": "8b3293a6-45a5-47cd-aa00-b23e3ca0a73f"
      },
      "source": [
        "See the [./dataloader.ipynb](./dataloader.ipynb) code notebook, which is a concise version of the data loader that we implemented in this chapter and will need for training the GPT model in upcoming chapters.\n",
        "\n",
        "See [./exercise-solutions.ipynb](./exercise-solutions.ipynb) for the exercise solutions.\n",
        "\n",
        "See the [Byte Pair Encoding (BPE) Tokenizer From Scratch](../02_bonus_bytepair-encoder/compare-bpe-tiktoken.ipynb) notebook if you are interested in learning how the GPT-2 tokenizer can be implemented and trained from scratch."
      ]
    }
  ],
  "metadata": {
    "kernelspec": {
      "display_name": "Python 3 (ipykernel)",
      "language": "python",
      "name": "python3"
    },
    "language_info": {
      "codemirror_mode": {
        "name": "ipython",
        "version": 3
      },
      "file_extension": ".py",
      "mimetype": "text/x-python",
      "name": "python",
      "nbconvert_exporter": "python",
      "pygments_lexer": "ipython3",
      "version": "3.10.16"
    },
    "colab": {
      "provenance": [],
      "toc_visible": true
    }
  },
  "nbformat": 4,
  "nbformat_minor": 5
}